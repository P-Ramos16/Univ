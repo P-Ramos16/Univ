{
 "cells": [
  {
   "cell_type": "code",
   "execution_count": 18,
   "metadata": {},
   "outputs": [
    {
     "name": "stdout",
     "output_type": "stream",
     "text": [
      "T = 0.0 :\n",
      "t >  | xx[t] >\n",
      "0.0    4.0\n",
      "t >  |   Emec >\n",
      "0.0    39.2\n",
      "\n",
      "T = 4.712 :\n",
      "t >  | xx[t] >\n",
      "4.712    0.0004448639326838748\n",
      "t >  |   Emec >\n",
      "4.712    8.00436045731627\n",
      "\n",
      "T = 10.995000000000001 :\n",
      "t >  | xx[t] >\n",
      "10.995000000000001    -0.0002953177102237468\n",
      "t >  |   Emec >\n",
      "10.995000000000001    7.9971052521980495\n",
      "\n"
     ]
    },
    {
     "data": {
      "image/png": "[encoded data removed]",
      "text/plain": [
       "<Figure size 432x288 with 1 Axes>"
      ]
     },
     "metadata": {
      "needs_background": "light"
     },
     "output_type": "display_data"
    }
   ],
   "source": [
    "#   OSCILADORES: f = -k x(t)\n",
    "\n",
    "import numpy as np\n",
    "import matplotlib.pyplot as plt\n",
    "\n",
    "# Gravidade\n",
    "g = 9.8\n",
    "\n",
    "# Massa\n",
    "m = 1\n",
    "\n",
    "# Tempo inicial e final\n",
    "ti = 0\n",
    "tf = 15\n",
    "\n",
    "# Area, ró, u, Cres e Potencia\n",
    "K = 1\n",
    "\n",
    "# Posição inicial\n",
    "xx0 = 4\n",
    "\n",
    "# Velocidade inicial\n",
    "vx0 = 0\n",
    "\n",
    "# dt incremento do tempo e n numero de intervalos\n",
    "dt = 0.001\n",
    "n = int((tf - ti) / dt)\n",
    "\n",
    "# Vetor tempo (n+1 para garantir que nao falta o ultimo dado (Ex: t[10]))\n",
    "t = np.linspace(ti, tf, n + 1)\n",
    "\n",
    "# Vetor velocidade (empty e não zeros para não alterar \n",
    "# muito o resultado se faltar analisar um dado)\n",
    "xx = np.empty(n + 1)\n",
    "vx = np.empty(n + 1)\n",
    "ax = np.empty(n + 1)\n",
    "\n",
    "Emec = np.empty(n + 1)\n",
    "\n",
    "# Introduzir x0 e v0 nos vetores da posição e velocidade\n",
    "xx[0] = xx0\n",
    "vx[0] = vx0\n",
    "\n",
    "\n",
    "# Preencher os vetores x, v, a\n",
    "for i in range(n):    \n",
    "    vTotal = vx[i]\n",
    "    \n",
    "    ax[i] = -K * xx[i] / m\n",
    "    vx[i + 1] = vx[i] + ax[i] * dt\n",
    "    xx[i + 1] = xx[i] + vx[i + 1] * dt\n",
    "    \n",
    "    Emec[i] = 0.5 * m * vTotal**2 + m * g * xx[i]\n",
    "    \n",
    "        \n",
    "    \n",
    "    \n",
    "    \n",
    "vTotal = vx[-1]\n",
    "Emec[-1] = 0.5 * m * vTotal**2 + m * g * xx[-1]\n",
    "  \n",
    "\n",
    "# Encontrar os dados do paraquedista quando ele chega ao solo (x = 0)\n",
    "for i in range(n):\n",
    "    if ((0 - dt) < vx[i] < (0 + dt)):\n",
    "        print(\"T =\", t[i],\":\")\n",
    "        print(\"t >  | xx[t] >\")\n",
    "        print(t[i],\"  \" , xx[i])\n",
    "        print(\"t >  |   Emec >\")\n",
    "        print(t[i],\"  \" , Emec[i])\n",
    "        print(\"\")\n",
    "        plt.plot(t[i], xx[i], \"o\", markersize=\"10\", linewidth=5, color=\"red\")\n",
    "        break\n",
    "\n",
    "for i in range(n):\n",
    "    if ((0 - dt) < xx[i] < (0 + dt)):\n",
    "        print(\"T =\", t[i],\":\")\n",
    "        print(\"t >  | xx[t] >\")\n",
    "        print(t[i],\"  \" , xx[i])\n",
    "        print(\"t >  |   Emec >\")\n",
    "        print(t[i],\"  \" , Emec[i])\n",
    "        print(\"\")\n",
    "        plt.plot(t[i], xx[i], \"o\", markersize=\"10\", linewidth=5, color=\"red\")\n",
    "\n",
    "# Plot\n",
    "plt.plot(t, xx, label=\"Posição\", linestyle='-', linewidth=3, color=\"turquoise\")\n",
    "plt.plot(t, t * 0, linestyle='-', linewidth=1, color=\"black\")\n",
    "plt.xlabel(\"t (s)\")\n",
    "plt.ylabel(\"v (m/s)\")\n",
    "plt.legend()         # Legenda só aparece com isto\n",
    "plt.grid()\n",
    "plt.show()"
   ]
  }
 ],
 "metadata": {
  "interpreter": {
   "hash": "e7370f93d1d0cde622a1f8e1c04877d8463912d04d973331ad4851f04de6915a"
  },
  "kernelspec": {
   "display_name": "Python 3.10.4 64-bit",
   "language": "python",
   "name": "python3"
  },
  "language_info": {
   "codemirror_mode": {
    "name": "ipython",
    "version": 3
   },
   "file_extension": ".py",
   "mimetype": "text/x-python",
   "name": "python",
   "nbconvert_exporter": "python",
   "pygments_lexer": "ipython3",
   "version": "3.10.4"
  },
  "orig_nbformat": 4
 },
 "nbformat": 4,
 "nbformat_minor": 2
}
