{
 "cells": [
  {
   "cell_type": "code",
   "execution_count": 31,
   "metadata": {},
   "outputs": [
    {
     "data": {
      "image/png": "[encoded data removed]",
      "text/plain": [
       "<Figure size 432x288 with 1 Axes>"
      ]
     },
     "metadata": {
      "needs_background": "light"
     },
     "output_type": "display_data"
    }
   ],
   "source": [
    "import numpy as np\n",
    "import sympy as sym\n",
    "import matplotlib.pyplot as plt\n",
    "\n",
    "# Gravidade\n",
    "g = 9.8\n",
    "\n",
    "# Tempo inicial e final\n",
    "ti = 0\n",
    "tf = 10\n",
    "\n",
    "v0 = 100 * 1000 / 3600\n",
    "alpha = 10\n",
    "\n",
    "# Velocidade inicial\n",
    "vx0 = 27.36\n",
    "x0 = 0\n",
    "vy0 = 4.82\n",
    "y0 = 0\n",
    "\n",
    "# Aceleração\n",
    "a = g\n",
    "\n",
    "# dt incremento do tempo e n numero de intervalos\n",
    "dt = 0.01\n",
    "n = int((tf - ti) / dt)\n",
    "\n",
    "# Vetor tempo (n+1 para garantir que nao falta o ultimo dado (Ex: t[10]))\n",
    "t = np.linspace(ti, tf, n + 1)\n",
    "\n",
    "# Vetor velocidade (empty e não zeros para não alterar \n",
    "# muito o resultado se faltar analisar um dado)\n",
    "vx = np.empty(n + 1)\n",
    "x = np.empty(n + 1)\n",
    "vy = np.empty(n + 1)\n",
    "y = np.empty(n + 1)\n",
    "\n",
    "# Introduzir v0 no vetor velocidade\n",
    "vx[0] = vx0\n",
    "x[0] = x0\n",
    "vy[0] = vy0\n",
    "y[0] = y0\n",
    "\n",
    "\n",
    "# Preencher o vetor v\n",
    "for i in range(n):\n",
    "    # v0 aqui é a velocidade inicial desde o ultimo ponto\n",
    "    #   v    =  v0  + a * t\n",
    "    vx[i + 1] = vx[i]\n",
    "    x[i + 1] = x[i] + vx[i] * dt\n",
    "    \n",
    "    vy[i + 1] = vy[i] - a * dt\n",
    "    y[i + 1] = y[i] + vy[i] * dt\n",
    "\n",
    "fig, ax = plt.subplots()\n",
    "\n",
    "ax.set(xlim=(0, 30), xticks=np.arange(0, 30.1, step=5),\n",
    "       ylim=(0, 1.5), yticks=np.arange(0, 1.51, step=0.25))\n",
    "\n",
    "# Plot\n",
    "plt.plot(x, y, label=\"Posição\",  linestyle='-.', linewidth=3, color=\"red\", markersize=12)\n",
    "plt.ylabel(\"y(m)\")\n",
    "plt.xlabel(\"x(m)\")\n",
    "plt.legend()         # Legenda só aparece com isto\n",
    "plt.grid()\n",
    "\n",
    "#plt.savefig(fname, *, dpi='figure', format=None, metadata=None, bbox_inches=None, pad_inches=0.1, facecolor='auto', edgecolor='auto', backend=None, **kwargs)"
   ]
  }
 ],
 "metadata": {
  "interpreter": {
   "hash": "e7370f93d1d0cde622a1f8e1c04877d8463912d04d973331ad4851f04de6915a"
  },
  "kernelspec": {
   "display_name": "Python 3.10.1 64-bit",
   "language": "python",
   "name": "python3"
  },
  "language_info": {
   "codemirror_mode": {
    "name": "ipython",
    "version": 3
   },
   "file_extension": ".py",
   "mimetype": "text/x-python",
   "name": "python",
   "nbconvert_exporter": "python",
   "pygments_lexer": "ipython3",
   "version": "3.10.4"
  },
  "orig_nbformat": 4
 },
 "nbformat": 4,
 "nbformat_minor": 2
}
