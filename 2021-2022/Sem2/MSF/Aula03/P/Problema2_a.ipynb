{
 "cells": [
  {
   "cell_type": "code",
   "execution_count": 1,
   "metadata": {},
   "outputs": [
    {
     "data": {
      "image/png": "[encoded data removed]",
      "text/plain": [
       "<Figure size 432x288 with 1 Axes>"
      ]
     },
     "metadata": {},
     "output_type": "display_data"
    }
   ],
   "source": [
    "import numpy as np\n",
    "import matplotlib.pyplot as plt\n",
    "\n",
    "g = 9.8\n",
    "\n",
    "# Pena\n",
    "xZeroP = 0\n",
    "vZeroP = 0\n",
    "acelP = g\n",
    "vTermP = 6.8\n",
    "\n",
    "\n",
    "t = np.linspace(0, 4)\n",
    "\n",
    "\n",
    "yPena = lambda t : (((vTermP ** 2) / g) * np.log(np.cosh(g * t / vTermP)))\n",
    "\n",
    "\n",
    "fig, ax = plt.subplots()\n",
    "\n",
    "\n",
    "plt.plot(t, yPena(t), label=\"Pena\",  linestyle='-.', linewidth=3, color=\"blue\", markersize=12)\n",
    "\n",
    "\n",
    "plt.title(\"Problema 2\")\n",
    "plt.xlabel(\"t (s)\")\n",
    "plt.ylabel(\"x (m)\")\n",
    "plt.legend()         # Legenda só aparece com isto\n",
    "plt.grid()\n",
    "\n",
    "fig.patch.set_facecolor('xkcd:aqua')\n",
    "ax.set_facecolor('xkcd:white')\n",
    "\n",
    "ax.set(xlim=(0, 4.01), xticks=np.arange(0, 4.01, step=1),\n",
    "       ylim=(0, 30.01), yticks=np.arange(0, 30.01, step=5))\n",
    "\n",
    "plt.show()\n"
   ]
  }
 ],
 "metadata": {
  "interpreter": {
   "hash": "e7370f93d1d0cde622a1f8e1c04877d8463912d04d973331ad4851f04de6915a"
  },
  "kernelspec": {
   "display_name": "Python 3.10.1 64-bit",
   "language": "python",
   "name": "python3"
  },
  "language_info": {
   "codemirror_mode": {
    "name": "ipython",
    "version": 3
   },
   "file_extension": ".py",
   "mimetype": "text/x-python",
   "name": "python",
   "nbconvert_exporter": "python",
   "pygments_lexer": "ipython3",
   "version": "3.9.7"
  },
  "orig_nbformat": 4
 },
 "nbformat": 4,
 "nbformat_minor": 2
}
