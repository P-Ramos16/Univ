{
 "cells": [
  {
   "cell_type": "code",
   "execution_count": 2,
   "metadata": {},
   "outputs": [
    {
     "data": {
      "image/png": "[encoded data removed]",
      "text/plain": [
       "<Figure size 432x288 with 1 Axes>"
      ]
     },
     "metadata": {
      "needs_background": "light"
     },
     "output_type": "display_data"
    },
    {
     "name": "stdout",
     "output_type": "stream",
     "text": [
      "gt/vt=  4.931849477634591     tempo chegada ao solo =  3.422099637542369\n",
      " tempo queda livre ao solo =  2.0203050891044216\n",
      " velocidade(solo) =  6.799292435092575\n",
      " acelera(solo) =  0.002039345685773908\n"
     ]
    }
   ],
   "source": [
    "# -*- coding: utf-8 -*-\n",
    "\"\"\"\n",
    "Created on Sun Feb 28 15:04:55 2021\n",
    "\n",
    "@author: vitor.torres    problema 2.2\n",
    "\"\"\"\n",
    "\n",
    "\n",
    "import numpy as np\n",
    "import matplotlib.pyplot as plt\n",
    "\n",
    "grav=9.80\n",
    "vt=6.80\n",
    "altura=20.0\n",
    "# alinea a), b) e c)\n",
    "tem=np.linspace(0,4,110)\n",
    "y=vt**2/grav*np.log(np.cosh(grav/vt*tem))\n",
    "vel=vt*np.tanh(grav*tem/vt)             # velocidade\n",
    "ace=grav/np.cosh(grav*tem/vt)**2        # aceleracao\n",
    "\n",
    "fig, ax = plt.subplots(1)   # faça as figuras para vel e ace\n",
    "ax.set_ylabel( 'y (m)' )\n",
    "ax.set_xlabel( 't (s)' )\n",
    "plt.grid()\n",
    "ax.plot(tem,ace)\n",
    "ax.set_title( 'Queda Volante com vy(0)=0' )\n",
    "#plt.savefig('Quedavolante_y.png',bbox_inches=\"tight\")\n",
    "plt.show()\n",
    "\n",
    "# alinea e) e f)\n",
    "ext=altura*grav/vt**2\n",
    "ex=np.exp(ext)\n",
    "gt=np.arccosh(ex)\n",
    "tempo=gt*vt/grav\n",
    "print('gt/vt= ',gt,'    tempo chegada ao solo = ',tempo)\n",
    "temlivre=np.sqrt(2*altura/grav)\n",
    "print(' tempo queda livre ao solo = ',temlivre)\n",
    "veloc=vt*np.tanh(grav*tempo/vt)\n",
    "print(' velocidade(solo) = ',veloc)\n",
    "acele=grav/np.cosh(grav*tempo/vt)**2\n",
    "print(' acelera(solo) = ',acele)\n",
    "\n"
   ]
  }
 ],
 "metadata": {
  "interpreter": {
   "hash": "e7370f93d1d0cde622a1f8e1c04877d8463912d04d973331ad4851f04de6915a"
  },
  "kernelspec": {
   "display_name": "Python 3.9.7 64-bit",
   "language": "python",
   "name": "python3"
  },
  "language_info": {
   "codemirror_mode": {
    "name": "ipython",
    "version": 3
   },
   "file_extension": ".py",
   "mimetype": "text/x-python",
   "name": "python",
   "nbconvert_exporter": "python",
   "pygments_lexer": "ipython3",
   "version": "3.9.7"
  },
  "orig_nbformat": 4
 },
 "nbformat": 4,
 "nbformat_minor": 2
}
