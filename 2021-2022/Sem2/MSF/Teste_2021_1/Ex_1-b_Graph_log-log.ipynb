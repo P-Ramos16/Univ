{
 "cells": [
  {
   "cell_type": "code",
   "execution_count": 9,
   "metadata": {},
   "outputs": [
    {
     "name": "stdout",
     "output_type": "stream",
     "text": [
      "\n",
      "|  m, Δm, b, Δb, r²  |\n",
      "        m > 1.94766351\n",
      "        b > -0.7499165\n",
      "       r² > 0.99688788\n",
      "       Δm > 0.03627419\n",
      "       Δb > 0.06085865\n"
     ]
    },
    {
     "data": {
      "image/png": "[encoded data removed]",
      "text/plain": [
       "<Figure size 432x288 with 1 Axes>"
      ]
     },
     "metadata": {
      "needs_background": "light"
     },
     "output_type": "display_data"
    }
   ],
   "source": [
    "import numpy as np\n",
    "import matplotlib.pyplot as plt\n",
    "\n",
    "\n",
    "# Variáveis práticas\n",
    "\n",
    "X = np.array([0.5, 1.5, 2.5, 3.5, 4.5, 5.5, 6.5, 7.5, 8.5, 9.5, 10.5])\n",
    "\n",
    "Y = np.array([0.121, 0.997, 2.55, 6.09, 9.31, 15.8, 17.1, 25.5, 26.5, 38.8, 41.9])\n",
    "\n",
    "\n",
    "X = np.log(X)\n",
    "Y = np.log(Y)\n",
    "\n",
    "\n",
    "xySum = np.sum(X * Y)\n",
    "\n",
    "xSum = np.sum(X)\n",
    "\n",
    "ySum = np.sum(Y)\n",
    "\n",
    "x2Sum = np.sum(X ** 2)\n",
    "\n",
    "y2Sum = np.sum(Y ** 2)\n",
    "\n",
    "\n",
    "\n",
    "# Calculo de m, mDelta, b, bDelta e r2 (ao quadrado)\n",
    "print(\"\")\n",
    "print(\"|  m, Δm, b, Δb, r²  |\")\n",
    "\n",
    "N = np.size(X)\n",
    "\n",
    "m = np.round(( N * xySum - (xSum * ySum) ) / ( N * x2Sum - (xSum ** 2) ), 8)\n",
    "print(\"        m >\", m)\n",
    "\n",
    "\n",
    "b = np.round( ( x2Sum * ySum - xSum * xySum ) / ( N * x2Sum - (xSum ** 2) ) , 8)\n",
    "print(\"        b >\", b)\n",
    "\n",
    "\n",
    "r2 = np.round( (N * xySum - xSum * ySum) ** 2 / ( ( N * x2Sum - xSum ** 2 ) * ( N * y2Sum - ySum ** 2 ) ), 8)\n",
    "print(\"       r² >\", r2)\n",
    "\n",
    "\n",
    "mDelta = np.round( abs(m) * np.sqrt(((1/r2) - 1 )/(N - 2)), 8)\n",
    "print(\"       Δm >\", mDelta)\n",
    "\n",
    "\n",
    "bDelta = np.round( mDelta * np.sqrt(x2Sum/N), 8)\n",
    "print(\"       Δb >\", bDelta)\n",
    "\n",
    "plt.xlabel(\"s (m)\")\n",
    "plt.ylabel(\"t (s)\")\n",
    "\n",
    " # modelo das variáveis práticas\n",
    "plt.plot(X, Y, label=\"Gráfico exprimental\", linestyle='-', linewidth=2.0, color=\"blue\", marker='+', markersize=12, markerfacecolor='blue')\n",
    "\n",
    "plt.plot(range(-1, 4), range(-1, 4)*m+b, label=\"Reta aproximada\", linestyle='-', linewidth=2.0, color=\"red\", marker='+', markersize=12, markerfacecolor='blue')\n",
    "\n",
    "plt.legend()         # Legenda só aparece com isto\n",
    "plt.grid()\n"
   ]
  }
 ],
 "metadata": {
  "interpreter": {
   "hash": "e7370f93d1d0cde622a1f8e1c04877d8463912d04d973331ad4851f04de6915a"
  },
  "kernelspec": {
   "display_name": "Python 3.10.1 64-bit",
   "language": "python",
   "name": "python3"
  },
  "language_info": {
   "codemirror_mode": {
    "name": "ipython",
    "version": 3
   },
   "file_extension": ".py",
   "mimetype": "text/x-python",
   "name": "python",
   "nbconvert_exporter": "python",
   "pygments_lexer": "ipython3",
   "version": "3.10.1"
  },
  "orig_nbformat": 4
 },
 "nbformat": 4,
 "nbformat_minor": 2
}
