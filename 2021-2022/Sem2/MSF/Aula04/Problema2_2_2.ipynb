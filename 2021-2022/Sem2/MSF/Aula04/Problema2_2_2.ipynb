{
 "cells": [
  {
   "cell_type": "code",
   "execution_count": 7,
   "metadata": {},
   "outputs": [
    {
     "name": "stdout",
     "output_type": "stream",
     "text": [
      "dy/dt =  vTermP*sinh(g*t/vTermP)/cosh(g*t/vTermP)\n",
      "dy/dt =  vTermP*tanh(g*t/vTermP)\n"
     ]
    },
    {
     "ename": "ValueError",
     "evalue": "operands could not be broadcast together with shapes (2,) (50,) ",
     "output_type": "error",
     "traceback": [
      "\u001b[0;31m---------------------------------------------------------------------------\u001b[0m",
      "\u001b[0;31mValueError\u001b[0m                                Traceback (most recent call last)",
      "Input \u001b[0;32mIn [7]\u001b[0m, in \u001b[0;36m<cell line: 37>\u001b[0;34m()\u001b[0m\n\u001b[1;32m     33\u001b[0m vPenaPLT \u001b[38;5;241m=\u001b[39m \u001b[38;5;28;01mlambda\u001b[39;00m t : (vTermP \u001b[38;5;241m*\u001b[39m np\u001b[38;5;241m.\u001b[39msinh(g\u001b[38;5;241m*\u001b[39mt\u001b[38;5;241m/\u001b[39mvTermP)\u001b[38;5;241m/\u001b[39mnp\u001b[38;5;241m.\u001b[39mcosh(g\u001b[38;5;241m*\u001b[39mt\u001b[38;5;241m/\u001b[39mvTermP))\n\u001b[1;32m     34\u001b[0m aPenaPLT \u001b[38;5;241m=\u001b[39m \u001b[38;5;28;01mlambda\u001b[39;00m t : (vTermP\u001b[38;5;241m*\u001b[39mnp\u001b[38;5;241m.\u001b[39mtanh(g\u001b[38;5;241m*\u001b[39mt\u001b[38;5;241m/\u001b[39mvTermP))\n\u001b[0;32m---> 37\u001b[0m plt\u001b[38;5;241m.\u001b[39mplot(t, \u001b[43mvPenaPLT\u001b[49m\u001b[43m(\u001b[49m\u001b[43mt\u001b[49m\u001b[43m)\u001b[49m, label\u001b[38;5;241m=\u001b[39m\u001b[38;5;124m\"\u001b[39m\u001b[38;5;124mCarro\u001b[39m\u001b[38;5;124m\"\u001b[39m,  linestyle\u001b[38;5;241m=\u001b[39m\u001b[38;5;124m'\u001b[39m\u001b[38;5;124m-.\u001b[39m\u001b[38;5;124m'\u001b[39m, linewidth\u001b[38;5;241m=\u001b[39m\u001b[38;5;241m3\u001b[39m, color\u001b[38;5;241m=\u001b[39m\u001b[38;5;124m\"\u001b[39m\u001b[38;5;124mred\u001b[39m\u001b[38;5;124m\"\u001b[39m, markersize\u001b[38;5;241m=\u001b[39m\u001b[38;5;241m12\u001b[39m)\n\u001b[1;32m     39\u001b[0m plt\u001b[38;5;241m.\u001b[39mplot(t, aPenaPLT(t), label\u001b[38;5;241m=\u001b[39m\u001b[38;5;124m\"\u001b[39m\u001b[38;5;124mCarro\u001b[39m\u001b[38;5;124m\"\u001b[39m,  linestyle\u001b[38;5;241m=\u001b[39m\u001b[38;5;124m'\u001b[39m\u001b[38;5;124m-.\u001b[39m\u001b[38;5;124m'\u001b[39m, linewidth\u001b[38;5;241m=\u001b[39m\u001b[38;5;241m3\u001b[39m, color\u001b[38;5;241m=\u001b[39m\u001b[38;5;124m\"\u001b[39m\u001b[38;5;124mblue\u001b[39m\u001b[38;5;124m\"\u001b[39m, markersize\u001b[38;5;241m=\u001b[39m\u001b[38;5;241m12\u001b[39m)\n\u001b[1;32m     42\u001b[0m plt\u001b[38;5;241m.\u001b[39mtitle(\u001b[38;5;124m\"\u001b[39m\u001b[38;5;124mProblema 1\u001b[39m\u001b[38;5;124m\"\u001b[39m)\n",
      "Input \u001b[0;32mIn [7]\u001b[0m, in \u001b[0;36m<lambda>\u001b[0;34m(t)\u001b[0m\n\u001b[1;32m     29\u001b[0m t \u001b[38;5;241m=\u001b[39m np\u001b[38;5;241m.\u001b[39mlinspace(\u001b[38;5;241m0\u001b[39m, \u001b[38;5;241m4\u001b[39m)\n\u001b[1;32m     31\u001b[0m fig, ax \u001b[38;5;241m=\u001b[39m plt\u001b[38;5;241m.\u001b[39msubplots()\n\u001b[0;32m---> 33\u001b[0m vPenaPLT \u001b[38;5;241m=\u001b[39m \u001b[38;5;28;01mlambda\u001b[39;00m t : (vTermP \u001b[38;5;241m*\u001b[39m np\u001b[38;5;241m.\u001b[39msinh(\u001b[43mg\u001b[49m\u001b[38;5;241;43m*\u001b[39;49m\u001b[43mt\u001b[49m\u001b[38;5;241m/\u001b[39mvTermP)\u001b[38;5;241m/\u001b[39mnp\u001b[38;5;241m.\u001b[39mcosh(g\u001b[38;5;241m*\u001b[39mt\u001b[38;5;241m/\u001b[39mvTermP))\n\u001b[1;32m     34\u001b[0m aPenaPLT \u001b[38;5;241m=\u001b[39m \u001b[38;5;28;01mlambda\u001b[39;00m t : (vTermP\u001b[38;5;241m*\u001b[39mnp\u001b[38;5;241m.\u001b[39mtanh(g\u001b[38;5;241m*\u001b[39mt\u001b[38;5;241m/\u001b[39mvTermP))\n\u001b[1;32m     37\u001b[0m plt\u001b[38;5;241m.\u001b[39mplot(t, vPenaPLT(t), label\u001b[38;5;241m=\u001b[39m\u001b[38;5;124m\"\u001b[39m\u001b[38;5;124mCarro\u001b[39m\u001b[38;5;124m\"\u001b[39m,  linestyle\u001b[38;5;241m=\u001b[39m\u001b[38;5;124m'\u001b[39m\u001b[38;5;124m-.\u001b[39m\u001b[38;5;124m'\u001b[39m, linewidth\u001b[38;5;241m=\u001b[39m\u001b[38;5;241m3\u001b[39m, color\u001b[38;5;241m=\u001b[39m\u001b[38;5;124m\"\u001b[39m\u001b[38;5;124mred\u001b[39m\u001b[38;5;124m\"\u001b[39m, markersize\u001b[38;5;241m=\u001b[39m\u001b[38;5;241m12\u001b[39m)\n",
      "\u001b[0;31mValueError\u001b[0m: operands could not be broadcast together with shapes (2,) (50,) "
     ]
    },
    {
     "data": {
      "image/png": "[encoded data removed]",
      "text/plain": [
       "<Figure size 432x288 with 1 Axes>"
      ]
     },
     "metadata": {
      "needs_background": "light"
     },
     "output_type": "display_data"
    }
   ],
   "source": [
    "import numpy as np\n",
    "import sympy as sym\n",
    "import matplotlib.pyplot as plt\n",
    "\n",
    "\n",
    "\n",
    "\n",
    "t = sym.Symbol(\"t\")\n",
    "v = sym.Symbol(\"v\")\n",
    "vTermP = sym.Symbol(\"vTermP\")\n",
    "g = sym.Symbol(\"g\")\n",
    "vPena = sym.Symbol(\"vPena\")\n",
    "aPena = sym.Symbol(\"aPena\")\n",
    "aS = sym.Symbol(\"aS\")\n",
    "\n",
    "\n",
    "vPena = sym.Derivative(((vTermP ** 2) / g) * sym.log(sym.cosh(g * t / vTermP)), t,  evaluate=True)\n",
    "\n",
    "\n",
    "print(\"dy/dt = \", vPena)\n",
    "\n",
    "aPena = sym.simplify(vPena)\n",
    "print(\"dy/dt = \", aPena)\n",
    "\n",
    "\n",
    "g = 9,8\n",
    "vTermP = 6.8\n",
    "altura = 20\n",
    "t = np.linspace(0, 4)\n",
    "\n",
    "\n",
    "vPenaPLT = lambda t : (vTermP * np.sinh(g*t/vTermP)/np.cosh(g*t/vTermP))\n",
    "aPenaPLT = lambda t : (vTermP*np.tanh(g*t/vTermP))\n",
    "\n",
    "fig, ax = plt.subplots()\n",
    "\n",
    "plt.plot(t, vPenaPLT(t), label=\"Carro\",  linestyle='-.', linewidth=3, color=\"red\", markersize=12)\n",
    "\n",
    "plt.plot(t, aPenaPLT(t), label=\"Carro\",  linestyle='-.', linewidth=3, color=\"blue\", markersize=12)\n",
    "\n",
    "\n",
    "plt.title(\"Problema 1\")\n",
    "plt.xlabel(\"t (s)\")\n",
    "plt.ylabel(\"x (m)\")\n",
    "plt.legend()         # Legenda só aparece com isto\n",
    "plt.grid()\n",
    "\n",
    "fig.patch.set_facecolor('xkcd:aqua')\n",
    "ax.set_facecolor('xkcd:white')\n",
    "\n",
    "ax.set(xlim=(0, 30.01), xticks=np.arange(0, 30.01, step=5),\n",
    "       ylim=(0, 1000.01), yticks=np.arange(0, 1000.01, step=100))\n",
    "\n",
    "plt.show()"
   ]
  }
 ],
 "metadata": {
  "interpreter": {
   "hash": "e7370f93d1d0cde622a1f8e1c04877d8463912d04d973331ad4851f04de6915a"
  },
  "kernelspec": {
   "display_name": "Python 3.10.1 64-bit",
   "language": "python",
   "name": "python3"
  },
  "language_info": {
   "codemirror_mode": {
    "name": "ipython",
    "version": 3
   },
   "file_extension": ".py",
   "mimetype": "text/x-python",
   "name": "python",
   "nbconvert_exporter": "python",
   "pygments_lexer": "ipython3",
   "version": "3.10.1"
  },
  "orig_nbformat": 4
 },
 "nbformat": 4,
 "nbformat_minor": 2
}
