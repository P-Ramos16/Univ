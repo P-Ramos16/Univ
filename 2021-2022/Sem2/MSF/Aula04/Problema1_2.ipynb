{
 "cells": [
  {
   "cell_type": "code",
   "execution_count": 23,
   "metadata": {},
   "outputs": [
    {
     "ename": "AttributeError",
     "evalue": "module 'numpy' has no attribute 'Round'",
     "output_type": "error",
     "traceback": [
      "\u001b[0;31m---------------------------------------------------------------------------\u001b[0m",
      "\u001b[0;31mAttributeError\u001b[0m                            Traceback (most recent call last)",
      "Input \u001b[0;32mIn [23]\u001b[0m, in \u001b[0;36m<cell line: 32>\u001b[0;34m()\u001b[0m\n\u001b[1;32m     24\u001b[0m \u001b[38;5;66;03m# Não funciona pois t nao \"é\" todos os intervalos\u001b[39;00m\n\u001b[1;32m     25\u001b[0m \u001b[38;5;66;03m#xIntersect = [xInt for xInt in t if (xC(xInt) == xP(xInt))]\u001b[39;00m\n\u001b[1;32m     26\u001b[0m \n\u001b[1;32m     27\u001b[0m \u001b[38;5;66;03m#for xInter in xIntersect:\u001b[39;00m\n\u001b[1;32m     28\u001b[0m \u001b[38;5;66;03m#    print(\"Interseção > (\", xC(xInter), \",\", xInter, \")\")\u001b[39;00m\n\u001b[1;32m     31\u001b[0m tIntersect \u001b[38;5;241m=\u001b[39m \u001b[38;5;241m2\u001b[39m \u001b[38;5;241m*\u001b[39m vZeroC \u001b[38;5;241m/\u001b[39m acelP    \n\u001b[0;32m---> 32\u001b[0m \u001b[38;5;28mprint\u001b[39m(\u001b[38;5;124m\"\u001b[39m\u001b[38;5;124mInterseção > (\u001b[39m\u001b[38;5;124m\"\u001b[39m, \u001b[43mnp\u001b[49m\u001b[38;5;241;43m.\u001b[39;49m\u001b[43mRound\u001b[49m(xC(tIntersect), \u001b[38;5;241m2\u001b[39m), \u001b[38;5;124m\"\u001b[39m\u001b[38;5;124m,\u001b[39m\u001b[38;5;124m\"\u001b[39m, np\u001b[38;5;241m.\u001b[39mRound(tIntersect, \u001b[38;5;241m2\u001b[39m), \u001b[38;5;124m\"\u001b[39m\u001b[38;5;124m)\u001b[39m\u001b[38;5;124m\"\u001b[39m)\n\u001b[1;32m     37\u001b[0m fig, ax \u001b[38;5;241m=\u001b[39m plt\u001b[38;5;241m.\u001b[39msubplots()\n\u001b[1;32m     40\u001b[0m plt\u001b[38;5;241m.\u001b[39mplot(t, xC(t), label\u001b[38;5;241m=\u001b[39m\u001b[38;5;124m\"\u001b[39m\u001b[38;5;124mCarro\u001b[39m\u001b[38;5;124m\"\u001b[39m,  linestyle\u001b[38;5;241m=\u001b[39m\u001b[38;5;124m'\u001b[39m\u001b[38;5;124m-.\u001b[39m\u001b[38;5;124m'\u001b[39m, linewidth\u001b[38;5;241m=\u001b[39m\u001b[38;5;241m3\u001b[39m, color\u001b[38;5;241m=\u001b[39m\u001b[38;5;124m\"\u001b[39m\u001b[38;5;124mred\u001b[39m\u001b[38;5;124m\"\u001b[39m, markersize\u001b[38;5;241m=\u001b[39m\u001b[38;5;241m12\u001b[39m)\n",
      "File \u001b[0;32m/usr/lib/python3.10/site-packages/numpy/__init__.py:313\u001b[0m, in \u001b[0;36m__getattr__\u001b[0;34m(attr)\u001b[0m\n\u001b[1;32m    310\u001b[0m     \u001b[38;5;28;01mfrom\u001b[39;00m \u001b[38;5;21;01m.\u001b[39;00m\u001b[38;5;21;01mtesting\u001b[39;00m \u001b[38;5;28;01mimport\u001b[39;00m Tester\n\u001b[1;32m    311\u001b[0m     \u001b[38;5;28;01mreturn\u001b[39;00m Tester\n\u001b[0;32m--> 313\u001b[0m \u001b[38;5;28;01mraise\u001b[39;00m \u001b[38;5;167;01mAttributeError\u001b[39;00m(\u001b[38;5;124m\"\u001b[39m\u001b[38;5;124mmodule \u001b[39m\u001b[38;5;132;01m{!r}\u001b[39;00m\u001b[38;5;124m has no attribute \u001b[39m\u001b[38;5;124m\"\u001b[39m\n\u001b[1;32m    314\u001b[0m                      \u001b[38;5;124m\"\u001b[39m\u001b[38;5;132;01m{!r}\u001b[39;00m\u001b[38;5;124m\"\u001b[39m\u001b[38;5;241m.\u001b[39mformat(\u001b[38;5;18m__name__\u001b[39m, attr))\n",
      "\u001b[0;31mAttributeError\u001b[0m: module 'numpy' has no attribute 'Round'"
     ]
    }
   ],
   "source": [
    "import numpy as np\n",
    "import matplotlib.pyplot as plt\n",
    "\n",
    "# Carro\n",
    "xZeroC = 0\n",
    "vZeroC = 70 * 1000 / 3600\n",
    "acelC = 0\n",
    "\n",
    "# Policia\n",
    "xZeroP = 0\n",
    "vZeroP = 0\n",
    "acelP = 2\n",
    "\n",
    "t = np.linspace(0, 100)\n",
    "\n",
    "\n",
    "xC = lambda t : (xZeroC + vZeroC * t + 0.5 * acelC * t ** 2)\n",
    "\n",
    "xP = lambda t : (xZeroP + vZeroP * t + 0.5 * acelP * t ** 2)\n",
    "\n",
    "\n",
    "\n",
    "\n",
    "# Não funciona pois t nao \"é\" todos os intervalos\n",
    "#xIntersect = [xInt for xInt in t if (xC(xInt) == xP(xInt))]\n",
    "\n",
    "#for xInter in xIntersect:\n",
    "#    print(\"Interseção > (\", xC(xInter), \",\", xInter, \")\")\n",
    "    \n",
    "    \n",
    "tIntersect = 2 * vZeroC / acelP    \n",
    "print(\"Interseção > (\", xC(tIntersect), \",\", tIntersect, \")\")\n",
    "    \n",
    "    \n",
    "\n",
    "\n",
    "fig, ax = plt.subplots()\n",
    "\n",
    "\n",
    "plt.plot(t, xC(t), label=\"Carro\",  linestyle='-.', linewidth=3, color=\"red\", markersize=12)\n",
    "\n",
    "plt.plot(t, xP(t), label=\"Policia\",  linestyle='-.', linewidth=3, color=\"blue\", markersize=12)\n",
    "\n",
    "\n",
    "plt.title(\"Problema 2\")\n",
    "plt.xlabel(\"t (s)\")\n",
    "plt.ylabel(\"x (m)\")\n",
    "plt.legend()         # Legenda só aparece com isto\n",
    "\n",
    "fig.patch.set_facecolor('xkcd:aqua')\n",
    "ax.set_facecolor('xkcd:white')\n",
    "\n",
    "ax.set(xlim=(0, 30.01), xticks=np.arange(0, 30.01, step=5),\n",
    "       ylim=(0, 1000.01), yticks=np.arange(0, 1000.01, step=100))\n",
    "\n",
    "plt.show()\n"
   ]
  }
 ],
 "metadata": {
  "interpreter": {
   "hash": "e7370f93d1d0cde622a1f8e1c04877d8463912d04d973331ad4851f04de6915a"
  },
  "kernelspec": {
   "display_name": "Python 3.10.1 64-bit",
   "language": "python",
   "name": "python3"
  },
  "language_info": {
   "codemirror_mode": {
    "name": "ipython",
    "version": 3
   },
   "file_extension": ".py",
   "mimetype": "text/x-python",
   "name": "python",
   "nbconvert_exporter": "python",
   "pygments_lexer": "ipython3",
   "version": "3.10.1"
  },
  "orig_nbformat": 4
 },
 "nbformat": 4,
 "nbformat_minor": 2
}
