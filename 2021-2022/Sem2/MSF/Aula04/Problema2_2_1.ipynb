{
 "cells": [
  {
   "cell_type": "code",
   "execution_count": 1,
   "metadata": {},
   "outputs": [
    {
     "name": "stdout",
     "output_type": "stream",
     "text": [
      "dy/dt =  vTermP*sinh(g*t/vTermP)/cosh(g*t/vTermP)\n",
      "dy/dt =  vTermP*tanh(g*t/vTermP)\n"
     ]
    }
   ],
   "source": [
    "import numpy as np\n",
    "import sympy as sym\n",
    "import matplotlib.pyplot as plt\n",
    "\n",
    "\n",
    "\n",
    "\n",
    "t = sym.Symbol(\"t\")\n",
    "v = sym.Symbol(\"v\")\n",
    "vTermP = sym.Symbol(\"vTermP\")\n",
    "g = sym.Symbol(\"g\")\n",
    "vPena = sym.Symbol(\"vPena\")\n",
    "aPena = sym.Symbol(\"aPena\")\n",
    "aS = sym.Symbol(\"aS\")\n",
    "\n",
    "\n",
    "vPena = sym.Derivative(((vTermP ** 2) / g) * sym.log(sym.cosh(g * t / vTermP)), t,  evaluate=True)\n",
    "\n",
    "\n",
    "print(\"dy/dt = \", vPena)\n",
    "\n",
    "aPena = sym.simplify(vPena)\n",
    "print(\"dy/dt = \", aPena)\n",
    "\n"
   ]
  }
 ],
 "metadata": {
  "interpreter": {
   "hash": "e7370f93d1d0cde622a1f8e1c04877d8463912d04d973331ad4851f04de6915a"
  },
  "kernelspec": {
   "display_name": "Python 3.10.1 64-bit",
   "language": "python",
   "name": "python3"
  },
  "language_info": {
   "codemirror_mode": {
    "name": "ipython",
    "version": 3
   },
   "file_extension": ".py",
   "mimetype": "text/x-python",
   "name": "python",
   "nbconvert_exporter": "python",
   "pygments_lexer": "ipython3",
   "version": "3.10.1"
  },
  "orig_nbformat": 4
 },
 "nbformat": 4,
 "nbformat_minor": 2
}
