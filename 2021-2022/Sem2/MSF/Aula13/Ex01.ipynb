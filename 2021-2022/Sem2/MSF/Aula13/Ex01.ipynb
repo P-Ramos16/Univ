{
 "cells": [
  {
   "cell_type": "code",
   "execution_count": null,
   "metadata": {},
   "outputs": [],
   "source": [
    "from numpy import linalg as LA\n",
    "import numpy as np\n",
    "\n",
    "k = 1\n",
    "kl = 0.5\n",
    "m = 1\n",
    "\n",
    "w, v = LA.eig(matdyn)\n",
    "\n",
    "print(np.sqrt(w), v)"
   ]
  }
 ],
 "metadata": {
  "language_info": {
   "name": "python"
  },
  "orig_nbformat": 4
 },
 "nbformat": 4,
 "nbformat_minor": 2
}
