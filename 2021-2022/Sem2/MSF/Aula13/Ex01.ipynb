{
 "cells": [
  {
   "cell_type": "code",
   "execution_count": 26,
   "metadata": {},
   "outputs": [
    {
     "name": "stdout",
     "output_type": "stream",
     "text": [
      "      Vterm Euler >  6.800697003267504\n",
      "Vterm Runge-Kutta >  6.7999713404731645\n"
     ]
    },
    {
     "data": {
      "image/png": "[encoded data removed]",
      "text/plain": [
       "<Figure size 432x288 with 1 Axes>"
      ]
     },
     "metadata": {
      "needs_background": "light"
     },
     "output_type": "display_data"
    }
   ],
   "source": [
    "import numpy as np\n",
    "import matplotlib.pyplot as plt\n",
    "\n",
    "def acelera(t, xx, vx):    \n",
    "    return g - g/vtx**2 * np.abs(vx) * vx\n",
    "\n",
    "def rk4(t,x,vx,dt):    \n",
    "    ax1=acelera(t,x,vx)\n",
    "    c1v=ax1*dt\n",
    "    c1x=vx*dt\n",
    "    ax2=acelera(t+dt/2.,x+c1x/2.,vx+c1v/2.)\n",
    "    c2v=ax2*dt\n",
    "    c2x=(vx+c1v/2.)*dt\t\t\t# predicto:  vx(t+dt) * dt\n",
    "    ax3=acelera(t+dt/2.,x+c2x/2.,vx+c2v/2.)\n",
    "    c3v=ax3*dt\n",
    "    c3x=(vx+c2v/2.)*dt\n",
    "    ax4=acelera(t+dt,x+c3x,vx+c3v)\n",
    "    c4v=ax4*dt\n",
    "    c4x=(vx+c3v)*dt\n",
    "      \n",
    "    xp=x+(c1x+2.*c2x+2.*c3x+c4x)/6.\n",
    "    vxp=vx+(c1v+2.*c2v+2.*c3v+c4v)/6.\n",
    "    return xp,vxp\n",
    "\n",
    "\n",
    "# Gravidade\n",
    "g = 9.8\n",
    "\n",
    "# Massa\n",
    "m = 1\n",
    "\n",
    "# Tempo inicial e final\n",
    "ti = 0\n",
    "tf = 5\n",
    "\n",
    "# Velocidade terminal\n",
    "vtx = 6.8\n",
    "\n",
    "# Posição e Velocidade inicial\n",
    "xx0 = 0\n",
    "vx0 = 0\n",
    "\n",
    "# dt incremento do tempo e n numero de intervalos\n",
    "dt = 0.5\n",
    "n = int((tf - ti) / dt)\n",
    "\n",
    "# Vetor tempo (n+1 para garantir que nao falta o ultimo dado (Ex: t[10]))\n",
    "t = np.linspace(ti, tf, n + 1)\n",
    "\n",
    "# Vetor velocidade (empty e não zeros para não alterar \n",
    "# muito o resultado se faltar analisar um dado)\n",
    "xx = np.empty(n + 1)\n",
    "vx = np.empty(n + 1)\n",
    "ax = np.empty(n + 1)\n",
    "\n",
    "xxrk4 = np.empty(n + 1)\n",
    "vxrk4 = np.empty(n + 1)\n",
    "\n",
    "# Introduzir x0 e v0 nos vetores da posição e velocidade\n",
    "xx[0] = xx0\n",
    "vx[0] = vx0\n",
    "xxrk4[0] = xx0\n",
    "vxrk4[0] = vx0\n",
    "\n",
    "\n",
    "# Preencher os vetores x, v, a\n",
    "for i in range(n):\n",
    "    # Runge-Kutta\n",
    "    xxrk4[i + 1], vxrk4[i + 1] = rk4(t[i], xxrk4[i], vxrk4[i], dt)\n",
    "\n",
    "    # Euler\n",
    "    ax[i] = acelera(t[i], xx[i], vx[i])\n",
    "    vx[i + 1] = vx[i] + ax[i] * dt\n",
    "    xx[i + 1] = xx[i] + vx[i] * dt\n",
    "    \n",
    "    \n",
    "print(\"      Vterm Euler > \", vx[-1])\n",
    "print(\"Vterm Runge-Kutta > \", vxrk4[-1])\n",
    "\n",
    "    \n",
    "# Plot\n",
    "plt.plot(t, vx, label=\"v(t) Euler\",  linestyle='-', linewidth=3, color=\"red\")\n",
    "plt.plot(t, vxrk4, label=\"v(t) Runge-Kutta\",  linestyle='-', linewidth=3, color=\"mediumspringgreen\")\n",
    "plt.xlabel(\"t (s)\")\n",
    "plt.ylabel(\"v (t)\")\n",
    "plt.legend()         # Legenda só aparece com isto\n",
    "plt.grid()\n",
    "plt.show()"
   ]
  }
 ],
 "metadata": {
  "interpreter": {
   "hash": "e7370f93d1d0cde622a1f8e1c04877d8463912d04d973331ad4851f04de6915a"
  },
  "kernelspec": {
   "display_name": "Python 3.10.4 64-bit",
   "language": "python",
   "name": "python3"
  },
  "language_info": {
   "codemirror_mode": {
    "name": "ipython",
    "version": 3
   },
   "file_extension": ".py",
   "mimetype": "text/x-python",
   "name": "python",
   "nbconvert_exporter": "python",
   "pygments_lexer": "ipython3",
   "version": "3.10.4"
  },
  "orig_nbformat": 4
 },
 "nbformat": 4,
 "nbformat_minor": 2
}
