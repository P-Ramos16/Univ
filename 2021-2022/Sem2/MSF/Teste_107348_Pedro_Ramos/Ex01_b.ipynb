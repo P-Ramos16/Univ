{
 "cells": [
  {
   "cell_type": "code",
   "execution_count": 6,
   "metadata": {},
   "outputs": [
    {
     "name": "stdout",
     "output_type": "stream",
     "text": [
      "\n",
      "|  m, Δm, b, Δb, r²  |\n",
      "        m > 2.01142505\n",
      "        b > -0.86388657\n",
      "       r² > 0.98469822\n",
      "       Δm > 0.08357993\n",
      "       Δb > 0.14022536\n"
     ]
    },
    {
     "data": {
      "image/png": "[encoded data removed]",
      "text/plain": [
       "<Figure size 432x288 with 1 Axes>"
      ]
     },
     "metadata": {
      "needs_background": "light"
     },
     "output_type": "display_data"
    }
   ],
   "source": [
    "import numpy as np\n",
    "import matplotlib.pyplot as plt\n",
    "\n",
    "# Variáveis práticas\n",
    "\n",
    "X = np.array([0.5, 1.5, 2.5, 3.5, 4.5, 5.5, 6.5, 7.5, 8.5, 9.5, 10.5])\n",
    "\n",
    "Y = np.array([0.1, 1.4, 1.7, 6.5, 7.7, 10.4, 19.5, 26.1, 26.5, 45.9, 52.5])\n",
    "\n",
    "X = np.log(X)\n",
    "Y = np.log(Y)\n",
    "\n",
    "\n",
    "# Calculo dos somatórios\n",
    "\n",
    "xySum = np.sum(X * Y)\n",
    "\n",
    "xSum = np.sum(X)\n",
    "\n",
    "ySum = np.sum(Y)\n",
    "\n",
    "x2Sum = np.sum(X ** 2)\n",
    "\n",
    "y2Sum = np.sum(Y ** 2)\n",
    "\n",
    "\n",
    "\n",
    "# Calculo de m, mDelta, b, bDelta e r2 (ao quadrado)\n",
    "print(\"\")\n",
    "print(\"|  m, Δm, b, Δb, r²  |\")\n",
    "\n",
    "N = np.size(X)\n",
    "\n",
    "m = np.round(( N * xySum - (xSum * ySum) ) / ( N * x2Sum - (xSum ** 2) ), 8)\n",
    "print(\"        m >\", m)\n",
    "\n",
    "\n",
    "b = np.round( ( x2Sum * ySum - xSum * xySum ) / ( N * x2Sum - (xSum ** 2) ) , 8)\n",
    "print(\"        b >\", b)\n",
    "\n",
    "\n",
    "r2 = np.round( (N * xySum - xSum * ySum) ** 2 / ( ( N * x2Sum - xSum ** 2 ) * ( N * y2Sum - ySum ** 2 ) ), 8)\n",
    "print(\"       r² >\", r2)\n",
    "\n",
    "\n",
    "mDelta = np.round( abs(m) * np.sqrt(((1/r2) - 1 )/(N - 2)), 8)\n",
    "print(\"       Δm >\", mDelta)\n",
    "\n",
    "\n",
    "bDelta = np.round( mDelta * np.sqrt(x2Sum/N), 8)\n",
    "print(\"       Δb >\", bDelta)\n",
    "\n",
    "\n",
    "# plot\n",
    "# modelo das variáveis práticas\n",
    "plt.plot(X, Y, label=\"gráfico experimental\", linestyle='-', linewidth=2.0, color=\"blue\", marker='+', markersize=12)\n",
    "# modelo do ajuste linear\n",
    "plt.plot(range(-1, 4), range(-1, 4) * m + b, label=\"ajuste linear\", linestyle='-', linewidth=2.0, color=\"red\")\n",
    "plt.ylabel(\"log(s) (cm)\")\n",
    "plt.xlabel(\"log(t) (s)\")\n",
    "plt.legend()         # Legenda só aparece com isto\n",
    "plt.grid()\n",
    "plt.show()\n"
   ]
  }
 ],
 "metadata": {
  "interpreter": {
   "hash": "e7370f93d1d0cde622a1f8e1c04877d8463912d04d973331ad4851f04de6915a"
  },
  "kernelspec": {
   "display_name": "Python 3.10.1 64-bit",
   "language": "python",
   "name": "python3"
  },
  "language_info": {
   "codemirror_mode": {
    "name": "ipython",
    "version": 3
   },
   "file_extension": ".py",
   "mimetype": "text/x-python",
   "name": "python",
   "nbconvert_exporter": "python",
   "pygments_lexer": "ipython3",
   "version": "3.10.1"
  },
  "orig_nbformat": 4
 },
 "nbformat": 4,
 "nbformat_minor": 2
}
