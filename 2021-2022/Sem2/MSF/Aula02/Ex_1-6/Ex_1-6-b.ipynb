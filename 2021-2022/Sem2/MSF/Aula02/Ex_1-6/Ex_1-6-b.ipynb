{
 "cells": [
  {
   "cell_type": "code",
   "execution_count": 14,
   "metadata": {},
   "outputs": [
    {
     "name": "stdout",
     "output_type": "stream",
     "text": [
      "\n",
      "|  m, Δm, b, Δb, r²  |\n",
      "        m > 0.71881212\n",
      "        b > -0.04825455\n",
      "       r² > 0.99384774\n",
      "       Δm > 0.01999529\n",
      "       Δb > 0.10674564\n",
      "\n",
      "| ordenada na origem  |\n",
      "     X(0) > -0.04825455\n",
      "\n",
      " > É uma relação linear bem \n",
      " aproximada pois r² é muito perto de 1 \n",
      " mas visto que este não é 1, a velocidade \n",
      " não foi uniforme durante o percurso.\n"
     ]
    }
   ],
   "source": [
    "import numpy as np\n",
    "import matplotlib.pyplot as plt\n",
    "\n",
    "\n",
    "\n",
    "# Variáveis práticas\n",
    "\n",
    "X = np.array([0.00, 0.735, 1.363, 1.739, 2.805, 3.814, 4.458, 4.955, 5.666, 6.329])\n",
    "\n",
    "L = np.array([0, 1, 2, 3, 4, 5, 6, 7, 8, 9])\n",
    "\n",
    "\n",
    "\n",
    "# Calculo dos somatórios\n",
    "xySum = np.sum(L * X)\n",
    "\n",
    "xSum = np.sum(L)\n",
    "\n",
    "ySum = np.sum(X)\n",
    "\n",
    "x2Sum = np.sum(L ** 2)\n",
    "\n",
    "y2Sum = np.sum(X ** 2)\n",
    "\n",
    "\n",
    "\n",
    "# Calculo de m, mDelta, b, bDelta e r2 (ao quadrado)\n",
    "print(\"\")\n",
    "print(\"|  m, Δm, b, Δb, r²  |\")\n",
    "\n",
    "N = np.size(L)\n",
    "\n",
    "m = np.round(( N * xySum - (xSum * ySum) ) / ( N * x2Sum - (xSum ** 2) ), 8)\n",
    "print(\"        m >\", m)\n",
    "\n",
    "\n",
    "b = np.round( ( x2Sum * ySum - xSum * xySum ) / ( N * x2Sum - (xSum ** 2) ) , 8)\n",
    "print(\"        b >\", b)\n",
    "\n",
    "\n",
    "r2 = np.round( (N * xySum - xSum * ySum) ** 2 / ( ( N * x2Sum - xSum ** 2 ) * ( N * y2Sum - ySum ** 2 ) ), 8)\n",
    "print(\"       r² >\", r2)\n",
    "\n",
    "\n",
    "mDelta = np.round( abs(m) * np.sqrt(((1/r2) - 1 )/(N - 2)), 8)\n",
    "print(\"       Δm >\", mDelta)\n",
    "\n",
    "\n",
    "bDelta = np.round( mDelta * np.sqrt(x2Sum/N), 8)\n",
    "print(\"       Δb >\", bDelta)\n",
    "\n",
    "\n",
    "\n",
    "# Calculo do valor de X quando L = 0.0 cm\n",
    "print(\"\")\n",
    "print(\"| ordenada na origem  |\")\n",
    "\n",
    "L165 = np.round( m * 0 + b, 8)\n",
    "print(\"     X(0) >\", L165)\n",
    "\n",
    "\n",
    "print(\"\")\n",
    "print(\" > É uma relação linear bem \\n aproximada pois r² é muito perto de 1 \\n mas visto que este não é 1, a velocidade \\n não foi uniforme durante o percurso.\")\n",
    "\n"
   ]
  }
 ],
 "metadata": {
  "interpreter": {
   "hash": "e7370f93d1d0cde622a1f8e1c04877d8463912d04d973331ad4851f04de6915a"
  },
  "kernelspec": {
   "display_name": "Python 3.10.1 64-bit",
   "language": "python",
   "name": "python3"
  },
  "language_info": {
   "codemirror_mode": {
    "name": "ipython",
    "version": 3
   },
   "file_extension": ".py",
   "mimetype": "text/x-python",
   "name": "python",
   "nbconvert_exporter": "python",
   "pygments_lexer": "ipython3",
   "version": "3.10.1"
  },
  "orig_nbformat": 4
 },
 "nbformat": 4,
 "nbformat_minor": 2
}
