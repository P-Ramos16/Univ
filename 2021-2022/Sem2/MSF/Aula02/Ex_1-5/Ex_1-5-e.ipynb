{
 "cells": [
  {
   "cell_type": "code",
   "execution_count": 2,
   "metadata": {},
   "outputs": [
    {
     "name": "stdout",
     "output_type": "stream",
     "text": [
      "| X quando L = 165.0  |\n",
      " X(165.0) > 1.7307\n"
     ]
    }
   ],
   "source": [
    "import numpy as np\n",
    "import matplotlib.pyplot as plt\n",
    "\n",
    "\n",
    "\n",
    "# Variáveis práticas\n",
    "\n",
    "L = np.array([92, 113, 133, 153, 171.5, 194, 207.5, 222])\n",
    "\n",
    "X = np.array([1.0, 1.2, 1.4, 1.6, 1.8, 2, 2.2, 2.3])\n",
    "\n",
    "\n",
    "\n",
    "# Calculo dos somatórios\n",
    "\n",
    "xySum = np.sum(L * X)\n",
    "\n",
    "xSum = np.sum(L)\n",
    "\n",
    "ySum = np.sum(X)\n",
    "\n",
    "x2Sum = np.sum(L ** 2)\n",
    "\n",
    "y2Sum = np.sum(X ** 2)\n",
    "\n",
    "\n",
    "\n",
    "# Calculo de m, mDelta, b, bDelta e r2 (ao quadrado)\n",
    "\n",
    "N = np.size(L)\n",
    "\n",
    "m = np.round(( N * xySum - (xSum * ySum) ) / ( N * x2Sum - (xSum ** 2) ), 8)\n",
    "\n",
    "b = np.round( ( x2Sum * ySum - xSum * xySum ) / ( N * x2Sum - (xSum ** 2) ) , 8)\n",
    "\n",
    "r2 = np.round( (N * xySum - xSum * ySum) ** 2 / ( ( N * x2Sum - xSum ** 2 ) * ( N * y2Sum - ySum ** 2 ) ), 8)\n",
    "\n",
    "mDelta = np.round( abs(m) * np.sqrt(((1/r2) - 1 )/(N - 2)), 8)\n",
    "\n",
    "bDelta = np.round( mDelta * np.sqrt(x2Sum/N), 8)\n",
    "\n",
    "\n",
    "\n",
    "# Calculo do valor de X quando L = 165.0 cm\n",
    "\n",
    "L165 = np.round( m * 165 + b, 4)\n",
    "print(\"| X quando L = 165.0  |\")\n",
    "print(\" X(165.0) >\", L165)"
   ]
  }
 ],
 "metadata": {
  "interpreter": {
   "hash": "e7370f93d1d0cde622a1f8e1c04877d8463912d04d973331ad4851f04de6915a"
  },
  "kernelspec": {
   "display_name": "Python 3.10.1 64-bit",
   "language": "python",
   "name": "python3"
  },
  "language_info": {
   "codemirror_mode": {
    "name": "ipython",
    "version": 3
   },
   "file_extension": ".py",
   "mimetype": "text/x-python",
   "name": "python",
   "nbconvert_exporter": "python",
   "pygments_lexer": "ipython3",
   "version": "3.10.1"
  },
  "orig_nbformat": 4
 },
 "nbformat": 4,
 "nbformat_minor": 2
}
