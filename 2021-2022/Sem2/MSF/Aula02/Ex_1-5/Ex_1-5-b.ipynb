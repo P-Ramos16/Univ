{
 "cells": [
  {
   "cell_type": "code",
   "execution_count": 1,
   "metadata": {},
   "outputs": [
    {
     "name": "stdout",
     "output_type": "stream",
     "text": [
      "|     somatórios     |\n",
      "    xySum > 2322.4\n",
      "     xSum > 1286.0\n",
      "     ySum > 13.5\n",
      "    x2Sum > 221719.5\n",
      "    y2Sum > 24.33\n"
     ]
    }
   ],
   "source": [
    "import numpy as np\n",
    "import matplotlib.pyplot as plt\n",
    "\n",
    "\n",
    "\n",
    "# Variáveis práticas\n",
    "\n",
    "L = np.array([92, 113, 133, 153, 171.5, 194, 207.5, 222])\n",
    "\n",
    "X = np.array([1.0, 1.2, 1.4, 1.6, 1.8, 2, 2.2, 2.3])\n",
    "\n",
    "\n",
    "\n",
    "# Calculo dos somatórios\n",
    "\n",
    "print(\"|     somatórios     |\")\n",
    "\n",
    "xySum = np.sum(L * X)\n",
    "print(\"    xySum >\", xySum)\n",
    "\n",
    "xSum = np.sum(L)\n",
    "print(\"     xSum >\", xSum)\n",
    "\n",
    "ySum = np.sum(X)\n",
    "print(\"     ySum >\", ySum)\n",
    "\n",
    "x2Sum = np.sum(L ** 2)\n",
    "print(\"    x2Sum >\", x2Sum)\n",
    "\n",
    "y2Sum = np.sum(X ** 2)\n",
    "print(\"    y2Sum >\", y2Sum)"
   ]
  }
 ],
 "metadata": {
  "interpreter": {
   "hash": "e7370f93d1d0cde622a1f8e1c04877d8463912d04d973331ad4851f04de6915a"
  },
  "kernelspec": {
   "display_name": "Python 3.10.1 64-bit",
   "language": "python",
   "name": "python3"
  },
  "language_info": {
   "codemirror_mode": {
    "name": "ipython",
    "version": 3
   },
   "file_extension": ".py",
   "mimetype": "text/x-python",
   "name": "python",
   "nbconvert_exporter": "python",
   "pygments_lexer": "ipython3",
   "version": "3.10.1"
  },
  "orig_nbformat": 4
 },
 "nbformat": 4,
 "nbformat_minor": 2
}
