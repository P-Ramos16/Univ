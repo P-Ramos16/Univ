{
 "cells": [
  {
   "cell_type": "code",
   "execution_count": 19,
   "metadata": {},
   "outputs": [
    {
     "name": "stdout",
     "output_type": "stream",
     "text": [
      "|     somatórios     |\n",
      "    xySum > 2322.4\n",
      "     xSum > 1286.0\n",
      "     ySum > 13.5\n",
      "    x2Sum > 221719.5\n",
      "    y2Sum > 24.33\n",
      "\n",
      "|  m, Δm, b, Δb, r²  |\n",
      "        m > 0.01015505\n",
      "        b > 0.05507544\n",
      "       r² > 0.99845714\n",
      "       Δm > 0.00016297\n",
      "       Δb > 0.02713093\n",
      "\n",
      "| X quando L = 165.0  |\n",
      " X(165.0) > 1.7307\n"
     ]
    },
    {
     "data": {
      "image/png": "[encoded data removed]",
      "text/plain": [
       "<Figure size 432x288 with 1 Axes>"
      ]
     },
     "metadata": {
      "needs_background": "light"
     },
     "output_type": "display_data"
    },
    {
     "data": {
      "image/png": "[encoded data removed]",
      "text/plain": [
       "<Figure size 432x288 with 1 Axes>"
      ]
     },
     "metadata": {
      "needs_background": "light"
     },
     "output_type": "display_data"
    }
   ],
   "source": [
    "import numpy as np\n",
    "import matplotlib.pyplot as plt\n",
    "\n",
    "\n",
    "\n",
    "# Variáveis práticas\n",
    "\n",
    "L = np.array([92, 113, 133, 153, 171.5, 194, 207.5, 222])\n",
    "\n",
    "X = np.array([1.0, 1.2, 1.4, 1.6, 1.8, 2, 2.2, 2.3])\n",
    "\n",
    "\n",
    "\n",
    "# Calculo dos somatórios\n",
    "\n",
    "print(\"|     somatórios     |\")\n",
    "\n",
    "xySum = np.sum(L * X)\n",
    "print(\"    xySum >\", xySum)\n",
    "\n",
    "xSum = np.sum(L)\n",
    "print(\"     xSum >\", xSum)\n",
    "\n",
    "ySum = np.sum(X)\n",
    "print(\"     ySum >\", ySum)\n",
    "\n",
    "x2Sum = np.sum(L ** 2)\n",
    "print(\"    x2Sum >\", x2Sum)\n",
    "\n",
    "y2Sum = np.sum(X ** 2)\n",
    "print(\"    y2Sum >\", y2Sum)\n",
    "\n",
    "\n",
    "\n",
    "# Calculo de m, mDelta, b, bDelta e r2 (ao quadrado)\n",
    "print(\"\")\n",
    "print(\"|  m, Δm, b, Δb, r²  |\")\n",
    "\n",
    "N = np.size(L)\n",
    "\n",
    "m = np.round(( N * xySum - (xSum * ySum) ) / ( N * x2Sum - (xSum ** 2) ), 8)\n",
    "print(\"        m >\", m)\n",
    "\n",
    "\n",
    "b = np.round( ( x2Sum * ySum - xSum * xySum ) / ( N * x2Sum - (xSum ** 2) ) , 8)\n",
    "print(\"        b >\", b)\n",
    "\n",
    "\n",
    "r2 = np.round( (N * xySum - xSum * ySum) ** 2 / ( ( N * x2Sum - xSum ** 2 ) * ( N * y2Sum - ySum ** 2 ) ), 8)\n",
    "print(\"       r² >\", r2)\n",
    "\n",
    "\n",
    "mDelta = np.round( abs(m) * np.sqrt(((1/r2) - 1 )/(N - 2)), 8)\n",
    "print(\"       Δm >\", mDelta)\n",
    "\n",
    "\n",
    "bDelta = np.round( mDelta * np.sqrt(x2Sum/N), 8)\n",
    "print(\"       Δb >\", bDelta)\n",
    "\n",
    "\n",
    "\n",
    "# Calculo do valor de X quando L = 165.0 cm\n",
    "print(\"\")\n",
    "print(\"| X quando L = 165.0  |\")\n",
    "\n",
    "L165 = np.round( m * 165 + b, 4)\n",
    "print(\" X(165.0) >\", L165)\n",
    "\n",
    "# plot\n",
    "fig, ax = plt.subplots()\n",
    "\n",
    "plt.xlabel(\"X (s)\")\n",
    "plt.ylabel(\"L (cm)\")\n",
    "\n",
    "ax.plot(L, X, linestyle='-.', linewidth=2.0, color=\"blue\", marker='+', markersize=12, markerfacecolor='blue')\n",
    "\n",
    "\n",
    "ax.set(xlim=(75, 250), xticks=np.arange(75, 251, step=25),\n",
    "       ylim=(0.5, 2.5), yticks=np.arange(0.5, 2.6, step=0.5))\n",
    "\n",
    "plt.show()\n",
    "\n",
    "fig, ax = plt.subplots()\n",
    "\n",
    "\n",
    "plt.plot(range(0, 250), range(0, 250)*m+b)\n",
    "\n",
    "plt.xlabel(\"X (s)\")\n",
    "plt.ylabel(\"L (cm)\")\n",
    "\n",
    "ax.set(xlim=(0, 250), xticks=np.arange(0, 251, step=25),\n",
    "       ylim=(0, 2.5), yticks=np.arange(0, 2.6, step=0.5))\n",
    "\n",
    "plt.show()\n"
   ]
  }
 ],
 "metadata": {
  "interpreter": {
   "hash": "e7370f93d1d0cde622a1f8e1c04877d8463912d04d973331ad4851f04de6915a"
  },
  "kernelspec": {
   "display_name": "Python 3.10.1 64-bit",
   "language": "python",
   "name": "python3"
  },
  "language_info": {
   "codemirror_mode": {
    "name": "ipython",
    "version": 3
   },
   "file_extension": ".py",
   "mimetype": "text/x-python",
   "name": "python",
   "nbconvert_exporter": "python",
   "pygments_lexer": "ipython3",
   "version": "3.10.1"
  },
  "orig_nbformat": 4
 },
 "nbformat": 4,
 "nbformat_minor": 2
}
