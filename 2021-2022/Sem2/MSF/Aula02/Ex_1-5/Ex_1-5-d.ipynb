{
 "cells": [
  {
   "cell_type": "code",
   "execution_count": 3,
   "metadata": {},
   "outputs": [
    {
     "data": {
      "image/png": "[encoded data removed]",
      "text/plain": [
       "<Figure size 432x288 with 1 Axes>"
      ]
     },
     "metadata": {
      "needs_background": "light"
     },
     "output_type": "display_data"
    }
   ],
   "source": [
    "import numpy as np\n",
    "import matplotlib.pyplot as plt\n",
    "\n",
    "\n",
    "\n",
    "# Variáveis práticas\n",
    "\n",
    "L = np.array([92, 113, 133, 153, 171.5, 194, 207.5, 222])\n",
    "\n",
    "X = np.array([1.0, 1.2, 1.4, 1.6, 1.8, 2, 2.2, 2.3])\n",
    "\n",
    "\n",
    "\n",
    "# Calculo dos somatórios\n",
    "\n",
    "xySum = np.sum(L * X)\n",
    "\n",
    "xSum = np.sum(L)\n",
    "\n",
    "ySum = np.sum(X)\n",
    "\n",
    "x2Sum = np.sum(L ** 2)\n",
    "\n",
    "y2Sum = np.sum(X ** 2)\n",
    "\n",
    "\n",
    "\n",
    "# Calculo de m, mDelta, b, bDelta e r2 (ao quadrado)\n",
    "\n",
    "N = np.size(L)\n",
    "\n",
    "m = np.round(( N * xySum - (xSum * ySum) ) / ( N * x2Sum - (xSum ** 2) ), 8)\n",
    "\n",
    "b = np.round( ( x2Sum * ySum - xSum * xySum ) / ( N * x2Sum - (xSum ** 2) ) , 8)\n",
    "\n",
    "r2 = np.round( (N * xySum - xSum * ySum) ** 2 / ( ( N * x2Sum - xSum ** 2 ) * ( N * y2Sum - ySum ** 2 ) ), 8)\n",
    "\n",
    "mDelta = np.round( abs(m) * np.sqrt(((1/r2) - 1 )/(N - 2)), 8)\n",
    "\n",
    "bDelta = np.round( mDelta * np.sqrt(x2Sum/N), 8)\n",
    "\n",
    "\n",
    "\n",
    "# plot\n",
    "\n",
    "fig, ax = plt.subplots()\n",
    "\n",
    " # reta calculada\n",
    "plt.plot(range(0, 250), range(0, 250)*m+b)\n",
    "\n",
    "plt.xlabel(\"X (s)\")\n",
    "plt.ylabel(\"L (cm)\")\n",
    "\n",
    "ax.set(xlim=(0, 250), xticks=np.arange(0, 251, step=25),\n",
    "       ylim=(0, 2.5), yticks=np.arange(0, 2.6, step=0.5))\n",
    "\n",
    "plt.show()"
   ]
  }
 ],
 "metadata": {
  "interpreter": {
   "hash": "e7370f93d1d0cde622a1f8e1c04877d8463912d04d973331ad4851f04de6915a"
  },
  "kernelspec": {
   "display_name": "Python 3.10.1 64-bit",
   "language": "python",
   "name": "python3"
  },
  "language_info": {
   "codemirror_mode": {
    "name": "ipython",
    "version": 3
   },
   "file_extension": ".py",
   "mimetype": "text/x-python",
   "name": "python",
   "nbconvert_exporter": "python",
   "pygments_lexer": "ipython3",
   "version": "3.10.1"
  },
  "orig_nbformat": 4
 },
 "nbformat": 4,
 "nbformat_minor": 2
}
