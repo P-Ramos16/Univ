{
 "cells": [
  {
   "cell_type": "code",
   "execution_count": 6,
   "metadata": {},
   "outputs": [
    {
     "name": "stdout",
     "output_type": "stream",
     "text": [
      "3.32618002991511\n"
     ]
    },
    {
     "data": {
      "image/png": "[encoded data removed]",
      "text/plain": [
       "<Figure size 432x288 with 1 Axes>"
      ]
     },
     "metadata": {
      "needs_background": "light"
     },
     "output_type": "display_data"
    },
    {
     "name": "stdout",
     "output_type": "stream",
     "text": [
      "2.357683451762731\n"
     ]
    },
    {
     "data": {
      "image/png": "[encoded data removed]",
      "text/plain": [
       "<Figure size 432x288 with 1 Axes>"
      ]
     },
     "metadata": {
      "needs_background": "light"
     },
     "output_type": "display_data"
    },
    {
     "name": "stdout",
     "output_type": "stream",
     "text": [
      "4.077026471599358\n"
     ]
    },
    {
     "data": {
      "image/png": "[encoded data removed]",
      "text/plain": [
       "<Figure size 432x288 with 1 Axes>"
      ]
     },
     "metadata": {
      "needs_background": "light"
     },
     "output_type": "display_data"
    }
   ],
   "source": [
    "import numpy as np\n",
    "import matplotlib.pyplot as plt\n",
    "\n",
    "def abfourier(tp,xp,it0,it1,nf):\n",
    "#\n",
    "# cálculo dos coeficientes de Fourier a_nf e b_nf\n",
    "#       a_nf = 2/T integral ( xp cos( nf w) ) dt   entre tp(it0) e tp(it1)\n",
    "#       b_nf = 2/T integral ( xp sin( nf w) ) dt   entre tp(it0) e tp(it1)    \n",
    "# integracao numerica pela aproximação trapezoidal\n",
    "# input: matrizes tempo tp   (abcissas)\n",
    "#                 posição xp (ordenadas) \n",
    "#       indices inicial it0\n",
    "#               final   it1  (ao fim de um período)   \n",
    "#       nf índice de Fourier\n",
    "# output: af_bf e bf_nf  \n",
    "# @author: vitor.torres\n",
    "\n",
    "    dt=tp[1]-tp[0]\n",
    "    per=tp[it1]-tp[it0]\n",
    "    ome=2*np.pi/per\n",
    "\n",
    "    s1=xp[it0]*np.cos(nf*ome*tp[it0])\n",
    "    s2=xp[it1]*np.cos(nf*ome*tp[it1])\n",
    "    st=xp[it0+1:it1]*np.cos(nf*ome*tp[it0+1:it1])\n",
    "    soma=np.sum(st)\n",
    "    \n",
    "    q1=xp[it0]*np.sin(nf*ome*tp[it0])\n",
    "    q2=xp[it1]*np.sin(nf*ome*tp[it1])\n",
    "    qt=xp[it0+1:it1]*np.sin(nf*ome*tp[it0+1:it1])\n",
    "    somq=np.sum(qt)\n",
    "    \n",
    "    intega=((s1+s2)/2+soma)*dt\n",
    "    af=2/per*intega\n",
    "    integq=((q1+q2)/2+somq)*dt\n",
    "    bf=2/per*integq\n",
    "    return af,bf\n",
    "\n",
    "\n",
    "\n",
    "# Arrays precisos\n",
    "# array com 1000 zeros\n",
    "ind = np.transpose([0 for i in range(1000)])\n",
    "countMax = 0\n",
    "ampl = 0\n",
    "af0 = np.empty(15)\n",
    "bf0 = np.empty(15)\n",
    "\n",
    "\n",
    "# Tempo inicial e final\n",
    "ti = 0\n",
    "tf = 100\n",
    "\n",
    "# Massa\n",
    "m = 1.5\n",
    "k = 1.2\n",
    "alpha = -0.01\n",
    "\n",
    "# Posição inicial\n",
    "xx0 = 3.5\n",
    "\n",
    "# Velocidade inicial\n",
    "vx0 = 2\n",
    "\n",
    "# Aceleração inicial\n",
    "ax0 = 0\n",
    "\n",
    "# dt incremento do tempo e n numero de intervalos\n",
    "dt = 0.0005\n",
    "n = int((tf - ti) / dt)\n",
    "\n",
    "\n",
    "\n",
    "# Vetor tempo (n+1 para garantir que nao falta o ultimo dado (Ex: t[10]))\n",
    "t = np.linspace(ti, tf, n + 1)\n",
    "\n",
    "# Vetor velocidade (empty e não zeros para não alterar \n",
    "# muito o resultado se faltar analisar um dado)\n",
    "Emec = np.empty(n + 1)\n",
    "xx = np.empty(n + 1)\n",
    "vx = np.empty(n + 1)\n",
    "ax = np.empty(n + 1)\n",
    "\n",
    "# Introduzir x0 e v0 nos vetores da posição e velocidade\n",
    "xx[0] = xx0\n",
    "vx[0] = vx0\n",
    "ax[0] = ax0\n",
    "\n",
    "# Soma das amplitudes máximas sao máximas (x[i-1] < x[i] > x[i-1])\n",
    "amps = 0\n",
    "# Array de tempos (o seu tamanho é o número de amplitudes máximas encontradas (para fazer a média))\n",
    "nAmps = []\n",
    "\n",
    "periodoArray = []\n",
    "\n",
    "# Preencher os vetores x, v, a\n",
    "for i in range(n):    \n",
    "    ax[i] = (-k * xx[i]  - 3 * alpha * xx[i]**2) / m\n",
    "    vx[i + 1] = vx[i] + ax[i] * dt\n",
    "    xx[i + 1] = xx[i] + vx[i + 1] * dt\n",
    "    \n",
    "    Emec[i] = 0.5 * m * vx[i]**2 + 0.5 * k  * xx[i]**2 + alpha * xx[i]**3\n",
    "    \n",
    "    # Somar as amplitudes médias encontradas e incrementar o número destas encontradas\n",
    "    #                                                 t > 200s para ser regime estacionário (mais ou menos)\n",
    "    if (xx[i - 1] < xx[i]) and (xx[i] > xx[i + 1]):\n",
    "        amps += xx[i]\n",
    "        nAmps.append(t[i])\n",
    "        countMax = countMax + 1 # num de maximos\n",
    "        ind[countMax] = int(i)  # guardar os \"i\" de picos (numerados com countMax) (ex: pico[1] == 0.123...)\n",
    "        \n",
    "t0 = ind[countMax - 1]\n",
    "t1 = ind[countMax]\n",
    "for i in range(15):\n",
    "    af, bf = abfourier(t, xx, t0, t1, i)\n",
    "    af0[i] = af\n",
    "    bf0[i] = bf\n",
    "    \n",
    "\n",
    "ii = np.linspace(0, 14, 15)\n",
    "\n",
    "print(af0[1])\n",
    "\n",
    "# Plot\n",
    "plt.bar(ii, np.abs(af0), label=\"|af0|\",  linestyle='-', linewidth=3, color=\"mediumspringgreen\")\n",
    "plt.xlabel(\"|af0|\")\n",
    "plt.ylabel(\"n\")\n",
    "plt.legend()         # Legenda só aparece com isto\n",
    "plt.grid()\n",
    "plt.show()\n",
    "\n",
    "print(bf0[1])\n",
    "\n",
    "plt.bar(ii, np.abs(bf0), label=\"|bf0|\",  linestyle='-', linewidth=3, color=\"dodgerblue\")\n",
    "plt.xlabel(\"|bf0|\")\n",
    "plt.ylabel(\"n\")\n",
    "plt.legend()         # Legenda só aparece com isto\n",
    "plt.grid()\n",
    "plt.show()\n",
    "\n",
    "print(np.sqrt(af0[1]**2 + bf0[1]**2))\n",
    "\n",
    "plt.bar(ii, np.sqrt(af0**2 + bf0**2), label=\"|bf0|\",  linestyle='-', linewidth=3, color=\"dodgerblue\")\n",
    "plt.xlabel(\"|bf0|\")\n",
    "plt.ylabel(\"n\")\n",
    "plt.legend()         # Legenda só aparece com isto\n",
    "plt.grid()\n",
    "plt.show()\n",
    "    \n",
    "    "
   ]
  }
 ],
 "metadata": {
  "kernelspec": {
   "display_name": "Python 3.10.5 64-bit",
   "language": "python",
   "name": "python3"
  },
  "language_info": {
   "codemirror_mode": {
    "name": "ipython",
    "version": 3
   },
   "file_extension": ".py",
   "mimetype": "text/x-python",
   "name": "python",
   "nbconvert_exporter": "python",
   "pygments_lexer": "ipython3",
   "version": "3.10.5"
  },
  "orig_nbformat": 4,
  "vscode": {
   "interpreter": {
    "hash": "e7370f93d1d0cde622a1f8e1c04877d8463912d04d973331ad4851f04de6915a"
   }
  }
 },
 "nbformat": 4,
 "nbformat_minor": 2
}
