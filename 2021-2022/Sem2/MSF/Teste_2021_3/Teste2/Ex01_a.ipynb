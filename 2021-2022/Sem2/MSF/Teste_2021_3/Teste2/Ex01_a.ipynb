{
 "cells": [
  {
   "cell_type": "code",
   "execution_count": 3,
   "metadata": {},
   "outputs": [
    {
     "name": "stdout",
     "output_type": "stream",
     "text": [
      "Vy = 0:\n",
      "t >               |     xx >        |     yy >         |   vy >\n",
      "0.436 15.248969975530127 1.0000232963587727 0.005655473108983166\n",
      "\n",
      "Xy = 0:\n",
      "t > |    xx >          |     yy >           |   vy >\n",
      "0.901 28.79394580127005 0.0032109311304750563 -4.190903448453577\n",
      "\n"
     ]
    },
    {
     "data": {
      "image/png": "[encoded data removed]",
      "text/plain": [
       "<Figure size 432x288 with 1 Axes>"
      ]
     },
     "metadata": {
      "needs_background": "light"
     },
     "output_type": "display_data"
    }
   ],
   "source": [
    "import numpy as np\n",
    "import matplotlib.pyplot as plt\n",
    "\n",
    "# Gravidade\n",
    "g = 9.8\n",
    "\n",
    "# Massa\n",
    "m = 0.057\n",
    "\n",
    "# Tempo inicial e final\n",
    "ti = 0\n",
    "tf = 1\n",
    "\n",
    "# Velocidade terminal\n",
    "vtx = 100 * 1000 / 3600\n",
    "vty = 100 * 1000 / 3600\n",
    "\n",
    "# Angulo inicial\n",
    "alpha = 7\n",
    "\n",
    "# Posição inicial\n",
    "xx0 = 0\n",
    "xy0 = 0\n",
    "\n",
    "# Velocidade inicial\n",
    "v0 = 140 * 1000 / 3600\n",
    "\n",
    "vx0 = v0 * np.cos(np.deg2rad(alpha))\n",
    "vy0 = v0 * np.sin(np.deg2rad(alpha))\n",
    "\n",
    "\n",
    "# Calcular D para a resistencia do ar\n",
    "Dx = g / (vtx * np.abs(vtx))\n",
    "Dy = g / (vty * np.abs(vty))\n",
    "\n",
    "# dt incremento do tempo e n numero de intervalos\n",
    "dt = 0.001\n",
    "n = int((tf - ti) / dt)\n",
    "\n",
    "# Vetor tempo (n+1 para garantir que nao falta o ultimo dado (Ex: t[10]))\n",
    "t = np.linspace(ti, tf, n + 1)\n",
    "\n",
    "# Vetor velocidade (empty e não zeros para não alterar \n",
    "# muito o resultado se faltar analisar um dado)\n",
    "xx = np.empty(n + 1)\n",
    "vx = np.empty(n + 1)\n",
    "ax = np.empty(n + 1)\n",
    "\n",
    "xy = np.empty(n + 1)\n",
    "vy = np.empty(n + 1)\n",
    "ay = np.empty(n + 1)\n",
    "\n",
    "# Introduzir x0 e v0 nos vetores da posição e velocidade\n",
    "xx[0] = xx0\n",
    "vx[0] = vx0\n",
    "\n",
    "xy[0] = xy0\n",
    "vy[0] = vy0\n",
    "\n",
    "\n",
    "# Preencher os vetores x, v, a\n",
    "for i in range(n):\n",
    "    vTotal = np.sqrt(vx[i] ** 2 + vy[i] ** 2)\n",
    "        \n",
    "    ax[i] = - Dx * np.abs(vTotal) * vx[i]\n",
    "    vx[i + 1] = vx[i] + ax[i] * dt\n",
    "    xx[i + 1] = xx[i] + vx[i] * dt\n",
    "    \n",
    "    ay[i] = - Dy * np.abs(vTotal) * vy[i] - g\n",
    "    vy[i + 1] = vy[i] + ay[i] * dt\n",
    "    xy[i + 1] = xy[i] + vy[i] * dt\n",
    "\n",
    "\n",
    "# Encontrar os dados do volante quando ele chega ao solo (x = 0)\n",
    "for i in range(n):\n",
    "    if (vy[i] > (0 - dt) and vy[i + 1] < (0 + dt)):\n",
    "        print(\"Vy = 0:\")\n",
    "        print(\"t >               |     xx >        |     yy >         |   vy >\")\n",
    "        print(t[i], xx[i], xy[i], vy[i])\n",
    "        print(\"\")\n",
    "        plt.plot(xx[i], xy[i], \"o\", markersize=\"10\", linewidth=5, color=\"red\")\n",
    "        break\n",
    "\n",
    "# Encontrar os dados do volante quando ele chega ao solo (x = 0)\n",
    "for i in range(n):\n",
    "    if (xy[i] > (0 - dt) and xy[i + 1] < (0 + dt)):\n",
    "        print(\"Xy = 0:\")\n",
    "        print(\"t > |    xx >          |     yy >           |   vy >\")\n",
    "        print(t[i], xx[i], xy[i], vy[i])\n",
    "        print(\"\")\n",
    "        plt.plot(xx[i], xy[i], \"o\", markersize=\"10\", linewidth=5, color=\"red\")\n",
    "        break\n",
    "\n",
    "\n",
    "# Plot\n",
    "plt.plot(xx, xy, label=\"y(x)\",  linestyle='-', linewidth=3, color=\"turquoise\")\n",
    "plt.xlabel(\"x (t)\")\n",
    "plt.ylabel(\"y (t)\")\n",
    "plt.legend()         # Legenda só aparece com isto\n",
    "plt.grid()\n",
    "plt.show()\n",
    "\n"
   ]
  }
 ],
 "metadata": {
  "kernelspec": {
   "display_name": "Python 3.10.5 64-bit",
   "language": "python",
   "name": "python3"
  },
  "language_info": {
   "codemirror_mode": {
    "name": "ipython",
    "version": 3
   },
   "file_extension": ".py",
   "mimetype": "text/x-python",
   "name": "python",
   "nbconvert_exporter": "python",
   "pygments_lexer": "ipython3",
   "version": "3.10.5"
  },
  "orig_nbformat": 4,
  "vscode": {
   "interpreter": {
    "hash": "e7370f93d1d0cde622a1f8e1c04877d8463912d04d973331ad4851f04de6915a"
   }
  }
 },
 "nbformat": 4,
 "nbformat_minor": 2
}
