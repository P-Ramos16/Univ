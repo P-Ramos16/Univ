import numpy as np
import sympy as sym
import matplotlib.pyplot as plt

# Gravidade
g = 9.8

# Tempo inicial e final
ti = 0
tf = 2.1

# Velocidade inicial
x0 = 0
v0 = 10

# Aceleração
a = -g

# dt incremento do tempo e n numero de intervalos
dt = 0.001
n = int((tf - ti) / dt)

# Vetor tempo (n+1 para garantir que nao falta o ultimo dado (Ex: t[10]))
t = np.linspace(ti, tf, n + 1)

# Vetor velocidade (empty e não zeros para não alterar 
# muito o resultado se faltar analisar um dado)
x = np.empty(n + 1)
v = np.empty(n + 1)

# Introduzir v0 no vetor velocidade
x[0] = x0
v[0] = v0

# Preencher o vetor v
for i in range(n):
    # v0 aqui é a velocidade inicial desde o ultimo ponto
    #   v    =  v0  + a * t
    x[i + 1] = x[i] + v[i] * dt
    v[i + 1] = v[i] + a * dt

    
# Plot
plt.plot(t, x, label="Posição",  linestyle='-.', linewidth=3, color="blue", markersize=12)
plt.ylabel("y (m)")
plt.xlabel("t (s)")
plt.legend()         # Legenda só aparece com isto
plt.grid()