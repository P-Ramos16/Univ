{
 "cells": [
  {
   "cell_type": "code",
   "execution_count": 1,
   "metadata": {},
   "outputs": [
    {
     "name": "stdout",
     "output_type": "stream",
     "text": [
      "xx >  1.0346752849095662  Epot >  1.9949728983163648\n",
      "xx >  -1.0358221004200525  Epot >  2.0016906122574554\n"
     ]
    },
    {
     "data": {
      "image/png": "[encoded data removed]",
      "text/plain": [
       "<Figure size 432x288 with 1 Axes>"
      ]
     },
     "metadata": {
      "needs_background": "light"
     },
     "output_type": "display_data"
    },
    {
     "name": "stdout",
     "output_type": "stream",
     "text": [
      "Quando o corpo tem menos de 2J de Energia, o seu movimento entre os seus limites é simetrico, pois a Epot é simetrica\n",
      "Quando o corpo tem menos de 2J de Energia, os seus extremos nao sao simetricos, sendo que a sua posiçao media nao coincide com a posiçao de equilibrio. Como a Epot é maior no lado negatico este passa mais tempo nesse lado\n"
     ]
    }
   ],
   "source": [
    "import numpy as np\n",
    "import matplotlib.pyplot as plt\n",
    "from sympy import symbols, Eq, solve\n",
    "\n",
    "x = symbols('x')\n",
    "\n",
    "# Tempo inicial e final\n",
    "ti = 0\n",
    "tf = 20\n",
    "\n",
    "# Massa\n",
    "m = 0.5\n",
    "k = 1.8\n",
    "alpha = 0.9\n",
    "xxEqui = 0\n",
    "\n",
    "\n",
    "# Isto resolve a expressão da posição inicial em função da energia mecanica \n",
    "Em = 4\n",
    "expr = x**2 * (0.5*k + alpha*x*2) - Em\n",
    "sol = solve(expr)\n",
    "\n",
    "# Posição inicial (igual a uma das soluções da equação, usamos a primeira para simplificar)\n",
    "#xx0 = np.sqrt(np.sqrt(2 * Em / k)**2 + xxEqui**2)\n",
    "xx0 = sol[0]\n",
    "\n",
    "# Velocidade inicial\n",
    "vx0 = 0\n",
    "\n",
    "# Aceleração inicial\n",
    "ax0 = 0\n",
    "\n",
    "# dt incremento do tempo e n numero de intervalos\n",
    "dt = 0.001\n",
    "n = int((tf - ti) / dt)\n",
    "\n",
    "\n",
    "# Vetor tempo (n+1 para garantir que nao falta o ultimo dado (Ex: t[10]))\n",
    "t = np.linspace(ti, tf, n + 1)\n",
    "\n",
    "# Vetor velocidade (empty e não zeros para não alterar \n",
    "# muito o resultado se faltar analisar um dado)\n",
    "Epot = np.empty(n + 1)\n",
    "Emec = np.empty(n + 1)\n",
    "xx = np.empty(n + 1)\n",
    "vx = np.empty(n + 1)\n",
    "ax = np.empty(n + 1)\n",
    "\n",
    "# Introduzir x0 e v0 nos vetores da posição e velocidade\n",
    "xx[0] = xx0\n",
    "vx[0] = vx0\n",
    "ax[0] = ax0\n",
    "\n",
    "\n",
    "# Preencher os vetores x, v, a\n",
    "for i in range(n):    \n",
    "\n",
    "    ax[i] = (-k * xx[i] - 4 * alpha * xx[i]**3) / m\n",
    "    vx[i + 1] = vx[i] + ax[i] * dt\n",
    "    xx[i + 1] = xx[i] + vx[i + 1] * dt\n",
    "    \n",
    "    Epot[i] = 0.5 * k * xx[i]**2 + alpha * xx[i]**4\n",
    "\n",
    "Epot[-1] = 0.5 * k * xx[-1]**2 + alpha * xx[-1]**4\n",
    "    \n",
    "    \n",
    "    \n",
    "plt.axes(xlim=(-1.2, 1.2), ylim=(0, 3))\n",
    "\n",
    "# marcar no grafico pontos simetricos\n",
    "for i in range(n):\n",
    "    if (Epot[i] < 2 + dt and Epot[i] > Epot[i+1]):\n",
    "        print(\"xx > \", xx[i], \" Epot > \", Epot[i])\n",
    "        plt.plot(xx[i], Epot[i], \"o\", markersize=\"10\", linewidth=5, color=\"red\")\n",
    "        break\n",
    "\n",
    "for i in range(n):\n",
    "    if (Epot[i] > 2 + dt and Epot[i] < Epot[i+1]):\n",
    "        print(\"xx > \", xx[i], \" Epot > \", Epot[i])\n",
    "        plt.plot(xx[i], Epot[i], \"o\", markersize=\"10\", linewidth=5, color=\"red\")\n",
    "        break\n",
    "\n",
    "\n",
    "# Plot\n",
    "plt.plot(xx, Epot, label=\"Epot\",  linestyle='-', linewidth=3, color=\"turquoise\")\n",
    "plt.xlabel(\"x (m)\")\n",
    "plt.ylabel(\"Epot (J)\")\n",
    "plt.legend()         # Legenda só aparece com isto\n",
    "plt.grid()\n",
    "plt.show()\n",
    "\n",
    "print(\"Quando o corpo tem menos de 2J de Energia, o seu movimento entre os seus limites é simetrico, pois a Epot é simetrica\")\n",
    "print(\"Quando o corpo tem menos de 2J de Energia, os seus extremos nao sao simetricos, sendo que a sua posiçao media nao coincide com a posiçao de equilibrio. Como a Epot é maior no lado negatico este passa mais tempo nesse lado\")\n",
    "    "
   ]
  }
 ],
 "metadata": {
  "interpreter": {
   "hash": "e7370f93d1d0cde622a1f8e1c04877d8463912d04d973331ad4851f04de6915a"
  },
  "kernelspec": {
   "display_name": "Python 3.10.4 64-bit",
   "language": "python",
   "name": "python3"
  },
  "language_info": {
   "codemirror_mode": {
    "name": "ipython",
    "version": 3
   },
   "file_extension": ".py",
   "mimetype": "text/x-python",
   "name": "python",
   "nbconvert_exporter": "python",
   "pygments_lexer": "ipython3",
   "version": "3.10.4"
  },
  "orig_nbformat": 4,
  "vscode": {
   "interpreter": {
    "hash": "e7370f93d1d0cde622a1f8e1c04877d8463912d04d973331ad4851f04de6915a"
   }
  }
 },
 "nbformat": 4,
 "nbformat_minor": 2
}
