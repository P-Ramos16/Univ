{
 "cells": [
  {
   "cell_type": "code",
   "execution_count": 7,
   "metadata": {},
   "outputs": [
    {
     "name": "stdout",
     "output_type": "stream",
     "text": [
      "100% de Vterm > 11.6836 m/s :\n",
      " 90% de Vterm > 10.5153 m/s :\n",
      "            t > 23.526 sec\n",
      "\n"
     ]
    },
    {
     "data": {
      "image/png": "[encoded data removed]",
      "text/plain": [
       "<Figure size 432x288 with 1 Axes>"
      ]
     },
     "metadata": {
      "needs_background": "light"
     },
     "output_type": "display_data"
    }
   ],
   "source": [
    "import numpy as np\n",
    "import matplotlib.pyplot as plt\n",
    "\n",
    "# Gravidade\n",
    "g = 9.8\n",
    "\n",
    "# Massa\n",
    "m = 75\n",
    "\n",
    "# Tempo inicial e final\n",
    "ti = 0\n",
    "tf = 100\n",
    "\n",
    "# Area, ró, u, Cres e Potencia\n",
    "A = 0.3\n",
    "Ro = 1.225\n",
    "u = 0.004\n",
    "Cres = 0.9\n",
    "P = 0.4 * 745.699872\n",
    "\n",
    "# Posição inicial\n",
    "xx0 = 0\n",
    "xy0 = 0\n",
    "\n",
    "# Velocidade inicial\n",
    "v0 = 1\n",
    "vx0 = v0\n",
    "\n",
    "# dt incremento do tempo e n numero de intervalos\n",
    "dt = 0.001\n",
    "n = int((tf - ti) / dt)\n",
    "\n",
    "# Vetor tempo (n+1 para garantir que nao falta o ultimo dado (Ex: t[10]))\n",
    "t = np.linspace(ti, tf, n + 1)\n",
    "\n",
    "# Vetor velocidade (empty e não zeros para não alterar \n",
    "# muito o resultado se faltar analisar um dado)\n",
    "xx = np.empty(n + 1)\n",
    "vx = np.empty(n + 1)\n",
    "ax = np.empty(n + 1)\n",
    "\n",
    "# Introduzir x0 e v0 nos vetores da posição e velocidade\n",
    "xx[0] = xx0\n",
    "vx[0] = vx0\n",
    "\n",
    "\n",
    "# Preencher os vetores x, v, a\n",
    "for i in range(n):    \n",
    "    ax[i] = -(u * g) - (Cres * A * Ro * vx[i] * vx[i] / (2 * m)) + P / (m * vx[i])\n",
    "    xx[i + 1] = xx[i] + vx[i] * dt\n",
    "    vx[i + 1] = vx[i] + ax[i] * dt\n",
    "\n",
    "\n",
    "print(\"100% de Vterm >\", np.round(vx[-1], 4), \"m/s :\")\n",
    "\n",
    "        \n",
    "# Encontrar o tempo a que a velocidade é 90% da terminal\n",
    "novVTerm = vx[-1] * 0.9\n",
    "for i in range(n):\n",
    "    if (novVTerm -dt <= vx[i]):\n",
    "        print(\" 90% de Vterm >\", np.round(novVTerm, 4), \"m/s :\")\n",
    "        print(\"            t >\", t[i], \"sec\")\n",
    "        print(\"\")\n",
    "        plt.plot(t[i], vx[i], \"o\", markersize=\"10\", linewidth=5, color=\"red\")\n",
    "        break\n",
    "        \n",
    "\n",
    "# Plot\n",
    "plt.plot(t, vx, label=\"Velocidade\", linestyle='-', linewidth=3, color=\"turquoise\")\n",
    "plt.plot(t, t * 0, linestyle='-', linewidth=1, color=\"black\")\n",
    "plt.xlabel(\"t (s)\")\n",
    "plt.ylabel(\"v (m/s)\")\n",
    "plt.legend()         # Legenda só aparece com isto\n",
    "plt.grid()\n",
    "plt.show()"
   ]
  }
 ],
 "metadata": {
  "interpreter": {
   "hash": "e7370f93d1d0cde622a1f8e1c04877d8463912d04d973331ad4851f04de6915a"
  },
  "kernelspec": {
   "display_name": "Python 3.10.4 64-bit",
   "language": "python",
   "name": "python3"
  },
  "language_info": {
   "codemirror_mode": {
    "name": "ipython",
    "version": 3
   },
   "file_extension": ".py",
   "mimetype": "text/x-python",
   "name": "python",
   "nbconvert_exporter": "python",
   "pygments_lexer": "ipython3",
   "version": "3.10.4"
  },
  "orig_nbformat": 4
 },
 "nbformat": 4,
 "nbformat_minor": 2
}
