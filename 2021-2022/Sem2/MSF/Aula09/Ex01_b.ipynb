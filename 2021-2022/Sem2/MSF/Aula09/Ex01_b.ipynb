{
 "cells": [
  {
   "cell_type": "code",
   "execution_count": 1,
   "metadata": {},
   "outputs": [
    {
     "name": "stdout",
     "output_type": "stream",
     "text": [
      "P (40km/h) > 259.5185\n"
     ]
    }
   ],
   "source": [
    "import numpy as np\n",
    "\n",
    "# Gravidade\n",
    "g = 9.8\n",
    "\n",
    "# Massa\n",
    "m = 75\n",
    "\n",
    "# Area, ró, u e Cres\n",
    "A = 0.3\n",
    "Ro = 1.225\n",
    "u = 0.004\n",
    "Cres = 0.9\n",
    "\n",
    "\n",
    "# Velocidade inicial\n",
    "v = 40 * 1000 / 3600\n",
    "\n",
    "P = np.round((v * u * m * g) + (Cres * A * Ro * (v ** 2) * v) / 2, 4)\n",
    "print(\"P (40km/h) >\", P)"
   ]
  }
 ],
 "metadata": {
  "interpreter": {
   "hash": "e7370f93d1d0cde622a1f8e1c04877d8463912d04d973331ad4851f04de6915a"
  },
  "kernelspec": {
   "display_name": "Python 3.10.4 64-bit",
   "language": "python",
   "name": "python3"
  },
  "language_info": {
   "codemirror_mode": {
    "name": "ipython",
    "version": 3
   },
   "file_extension": ".py",
   "mimetype": "text/x-python",
   "name": "python",
   "nbconvert_exporter": "python",
   "pygments_lexer": "ipython3",
   "version": "3.10.4"
  },
  "orig_nbformat": 4
 },
 "nbformat": 4,
 "nbformat_minor": 2
}
