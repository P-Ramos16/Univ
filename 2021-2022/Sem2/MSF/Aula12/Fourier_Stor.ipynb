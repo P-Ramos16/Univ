{
 "cells": [
  {
   "cell_type": "code",
   "execution_count": 1,
   "metadata": {},
   "outputs": [
    {
     "name": "stderr",
     "output_type": "stream",
     "text": [
      "/tmp/ipykernel_5922/3378367514.py:74: DeprecationWarning: `np.int` is a deprecated alias for the builtin `int`. To silence this warning, use `int` by itself. Doing this will not modify any behavior and is safe. When replacing `np.int`, you may wish to use e.g. `np.int64` or `np.int32` to specify the precision. If you wish to review your current use, check the release note link for additional information.\n",
      "Deprecated in NumPy 1.20; for more details and guidance: https://numpy.org/devdocs/release/1.20.0-notes.html#deprecations\n",
      "  n=np.int(tf/dt+0.1)\n"
     ]
    },
    {
     "name": "stdout",
     "output_type": "stream",
     "text": [
      "n 2400000\n"
     ]
    },
    {
     "data": {
      "image/png": "[encoded data removed]",
      "text/plain": [
       "<Figure size 432x288 with 1 Axes>"
      ]
     },
     "metadata": {
      "needs_background": "light"
     },
     "output_type": "display_data"
    },
    {
     "data": {
      "image/png": "[encoded data removed]",
      "text/plain": [
       "<Figure size 432x288 with 1 Axes>"
      ]
     },
     "metadata": {
      "needs_background": "light"
     },
     "output_type": "display_data"
    }
   ],
   "source": [
    "# -*- coding: utf-8 -*-\n",
    "\"\"\"\n",
    "Created on Wed May 26 16:10:45 2021\n",
    "\n",
    "@author:carlos Azevedo\n",
    "\"\"\"\n",
    "\n",
    "# Oscilador de Harmónico Forçado\n",
    "# Método de Euler-Cromer\n",
    "\n",
    "import numpy as np\n",
    "import matplotlib.pyplot as plt\n",
    "\n",
    "\n",
    "\n",
    "# def maximo(xm1,xm2,xm3,ym1,ym2,ym3):\n",
    "#     xab=xm1-xm2\n",
    "#     xac=xm1-xm3\n",
    "#     xbc=xm2-xm3\n",
    "\n",
    "#     a=ym1/(xab*xac)\n",
    "#     b=-ym2/(xab*xbc)\n",
    "#     c=ym3/(xac*xbc)\n",
    "\n",
    "#     xmla=(b+c)*xm1+(a+c)*xm2+(a+b)*xm3\n",
    "#     xmax=0.5*xmla/(a+b+c)\n",
    "\n",
    "#     xta=xmax-xm1\n",
    "#     xtb=xmax-xm2\n",
    "#     xtc=xmax-xm3\n",
    "\n",
    "#     ymax=a*xtb*xtc+b*xta*xtc+c*xta*xtb\n",
    "#     return xmax, ymax\n",
    "\n",
    "##DO ELEARNING\n",
    "def abfourier(tp,xp,it0,it1,nf):\n",
    "#\n",
    "# cálculo dos coeficientes de Fourier a_nf e b_nf\n",
    "#       a_nf = 2/T integral ( xp cos( nf w) ) dt   entre tp(it0) e tp(it1)\n",
    "#       b_nf = 2/T integral ( xp sin( nf w) ) dt   entre tp(it0) e tp(it1)    \n",
    "# integracao numerica pela aproximação trapezoidal\n",
    "# input: matrizes tempo tp   (abcissas)\n",
    "#                 posição xp (ordenadas) \n",
    "#       indices inicial it0\n",
    "#               final   it1  (ao fim de um período)   \n",
    "#       nf índice de Fourier\n",
    "# output: af_bf e bf_nf  \n",
    "# \n",
    "    dt=tp[1]-tp[0]\n",
    "    per=tp[it1]-tp[it0]\n",
    "    ome=2*np.pi/per\n",
    "\n",
    "    s1=xp[it0]*np.cos(nf*ome*tp[it0])\n",
    "    s2=xp[it1]*np.cos(nf*ome*tp[it1])\n",
    "    st=xp[it0+1:it1]*np.cos(nf*ome*tp[it0+1:it1])\n",
    "    soma=np.sum(st)\n",
    "    \n",
    "    q1=xp[it0]*np.sin(nf*ome*tp[it0])\n",
    "    q2=xp[it1]*np.sin(nf*ome*tp[it1])\n",
    "    qt=xp[it0+1:it1]*np.sin(nf*ome*tp[it0+1:it1])\n",
    "    somq=np.sum(qt)\n",
    "    \n",
    "    intega=((s1+s2)/2+soma)*dt\n",
    "    af=2/per*intega\n",
    "    integq=((q1+q2)/2+somq)*dt\n",
    "    bf=2/per*integq\n",
    "    return af,bf\n",
    "\n",
    "\n",
    "\n",
    "\n",
    "dt=0.0005\n",
    "tf=1200.0\n",
    "n=np.int(tf/dt+0.1)\n",
    "print('n',n)\n",
    "\n",
    "tempo=np.empty(n+1)\n",
    "x=np.empty(n+1)\n",
    "vx=np.empty(n+1)\n",
    "a=np.empty(n+1)\n",
    "en=np.empty(n+1)\n",
    "enec=np.empty(n+1)\n",
    "\t  \n",
    "t0=0.\n",
    "x0=-2.0            \n",
    "vx0=-4.0\n",
    "\n",
    "tempo[0]=t0\n",
    "vx[0]=vx0\n",
    "x[0]=x0\n",
    "\n",
    "k=1\n",
    "m=1\n",
    "b=0.05\n",
    "F0=7.5\n",
    "Wf=1\n",
    "ampl=0\n",
    "countMax=0\n",
    "tMax=[]\n",
    "periodo=[]\n",
    "\n",
    "\n",
    "ind=np.transpose([0 for i in range(1000)])\n",
    "\n",
    "afo=np.zeros(15)\n",
    "bfo=np.zeros(15)\n",
    "\n",
    "\n",
    "for i in range(n):\n",
    "\ttempo[i+1]=tempo[i]+dt\n",
    "\ta[i]=-(k/m)*x[i]-(b/m)*vx[i]+(F0/m)*np.cos(Wf*tempo[i])\n",
    "\tvx[i+1]=vx[i]+a[i]*dt\n",
    "\tx[i+1]=x[i]+vx[i+1]*dt\n",
    "\ten[i]=0.5*m*vx[i]**2+0.5*k*x[i]**2\n",
    "\tif tempo[i]>200 and x[i-1] < x[i] and  x[i+1] < x[i]  :\n",
    "\t\t# maxx, maxy=maximo(tempo[i-1], tempo[i], tempo[i+1], x[i-1], x[i], x[i+1])\n",
    "\t\t# ampl=ampl+maxy\n",
    "\t\tcountMax=countMax+1\n",
    "\t\tind[countMax]=int(i) #NOTA TEM DE SER UM INT\n",
    "\t\t\n",
    "\n",
    "\n",
    "t0=ind[countMax-1]\n",
    "t1=ind[countMax]    \n",
    "for i in range(15):\n",
    "    af, bf=abfourier(tempo,x,t0,t1,i)\n",
    "    afo[i]=af\n",
    "    bfo[i]=bf\n",
    "    # print('afo = ',i,af,bf,np.sqrt(af**2+bf**2))\n",
    "\n",
    "\n",
    "\n",
    "ii=np.linspace(0,14,15)\n",
    "plt.figure()\n",
    "plt.ylabel('| a_n |')\n",
    "plt.xlabel('n')\n",
    "plt.bar(ii,np.abs(afo))\n",
    "plt.grid()\n",
    "plt.show()\n",
    "\n",
    "\n",
    "\n",
    "ii=np.linspace(0,14,15)\n",
    "plt.figure()\n",
    "plt.ylabel('| b_n |')\n",
    "plt.xlabel('n')\n",
    "plt.bar(ii,np.abs(bfo))\n",
    "plt.grid()\n",
    "plt.show()\n",
    "\n"
   ]
  }
 ],
 "metadata": {
  "interpreter": {
   "hash": "e7370f93d1d0cde622a1f8e1c04877d8463912d04d973331ad4851f04de6915a"
  },
  "kernelspec": {
   "display_name": "Python 3.10.4 64-bit",
   "language": "python",
   "name": "python3"
  },
  "language_info": {
   "codemirror_mode": {
    "name": "ipython",
    "version": 3
   },
   "file_extension": ".py",
   "mimetype": "text/x-python",
   "name": "python",
   "nbconvert_exporter": "python",
   "pygments_lexer": "ipython3",
   "version": "3.10.4"
  },
  "orig_nbformat": 4
 },
 "nbformat": 4,
 "nbformat_minor": 2
}
