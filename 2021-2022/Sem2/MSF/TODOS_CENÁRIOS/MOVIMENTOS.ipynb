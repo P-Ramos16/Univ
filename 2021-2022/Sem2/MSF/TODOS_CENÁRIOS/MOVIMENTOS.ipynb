{
 "cells": [
  {
   "cell_type": "code",
   "execution_count": 1,
   "metadata": {},
   "outputs": [
    {
     "name": "stdout",
     "output_type": "stream",
     "text": [
      "dt, t, vy =  0.001 3.0 -19.4\n",
      "dt, t, vy =  0.001 3.001 -19.4098\n"
     ]
    },
    {
     "data": {
      "image/png": "[encoded data removed]",
      "text/plain": [
       "<Figure size 432x288 with 1 Axes>"
      ]
     },
     "metadata": {
      "needs_background": "light"
     },
     "output_type": "display_data"
    }
   ],
   "source": [
    "import numpy as np\n",
    "import sympy as sym\n",
    "import matplotlib.pyplot as plt\n",
    "\n",
    "# Gravidade\n",
    "g = 9.8\n",
    "\n",
    "# Tempo inicial e final\n",
    "ti = 0\n",
    "tf = 4\n",
    "\n",
    "# Velocidade inicial\n",
    "x0 = 0\n",
    "v0 = 10\n",
    "\n",
    "# Aceleração\n",
    "a = -g\n",
    "\n",
    "# dt incremento do tempo e n numero de intervalos\n",
    "dt = 0.001\n",
    "n = int((tf - ti) / dt)\n",
    "\n",
    "# Vetor tempo (n+1 para garantir que nao falta o ultimo dado (Ex: t[10]))\n",
    "t = np.linspace(ti, tf, n + 1)\n",
    "\n",
    "# Vetor velocidade (empty e não zeros para não alterar \n",
    "# muito o resultado se faltar analisar um dado)\n",
    "x = np.empty(n + 1)\n",
    "v = np.empty(n + 1)\n",
    "\n",
    "# Introduzir v0 no vetor velocidade\n",
    "x[0] = x0\n",
    "v[0] = v0\n",
    "\n",
    "# Preencher o vetor v\n",
    "for i in range(n):\n",
    "    # v0 aqui é a velocidade inicial desde o ultimo ponto\n",
    "    #   v    =  v0  + a * t\n",
    "    x[i + 1] = x[i] + v[i] * dt\n",
    "    v[i + 1] = v[i] + a * dt\n",
    "\n",
    "\n",
    "# Encontrar um ponto pretendido no vetor v\n",
    "# Tempo pretendido\n",
    "tp = 3\n",
    "\n",
    "# Se t[i] estiver entre o tempo pretendido - incremento\n",
    "#                       e tempo pretendido + incremento\n",
    "for i in range(n + 1):\n",
    "    if ( t[i] > (tp - dt) and (tp + dt) > t[i] ):\n",
    "        print(\"dt, t, vy = \", dt, ( t[i]), np.round( v[i], 4 ))\n",
    "        print(\"dt, t, vy = \", dt, ( t[i + 1] ), np.round( v[i + 1], 4 ))\n",
    "        break\n",
    "\n",
    "    \n",
    "# Plot\n",
    "plt.plot(t, v, label=\"Velocidade\",  linestyle='-.', linewidth=3, color=\"blue\", markersize=12)\n",
    "plt.ylabel(\"v(m/s)\")\n",
    "plt.xlabel(\"t(s)\")\n",
    "plt.legend()         # Legenda só aparece com isto\n",
    "plt.grid()"
   ]
  }
 ],
 "metadata": {
  "interpreter": {
   "hash": "e7370f93d1d0cde622a1f8e1c04877d8463912d04d973331ad4851f04de6915a"
  },
  "kernelspec": {
   "display_name": "Python 3.10.2 64-bit",
   "language": "python",
   "name": "python3"
  },
  "language_info": {
   "codemirror_mode": {
    "name": "ipython",
    "version": 3
   },
   "file_extension": ".py",
   "mimetype": "text/x-python",
   "name": "python",
   "nbconvert_exporter": "python",
   "pygments_lexer": "ipython3",
   "version": "3.10.2"
  },
  "orig_nbformat": 4
 },
 "nbformat": 4,
 "nbformat_minor": 2
}
