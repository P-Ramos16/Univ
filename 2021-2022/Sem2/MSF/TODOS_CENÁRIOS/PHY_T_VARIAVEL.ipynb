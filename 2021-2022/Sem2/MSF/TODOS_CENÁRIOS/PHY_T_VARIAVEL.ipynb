{
 "cells": [
  {
   "cell_type": "code",
   "execution_count": 1,
   "metadata": {},
   "outputs": [
    {
     "data": {
      "image/png": "[encoded data removed]",
      "text/plain": [
       "<Figure size 432x288 with 1 Axes>"
      ]
     },
     "metadata": {
      "needs_background": "light"
     },
     "output_type": "display_data"
    }
   ],
   "source": [
    "import numpy as np\n",
    "import sympy as sym\n",
    "import matplotlib.pyplot as plt\n",
    "\n",
    "n = 10\n",
    "\n",
    "xCalc = -19.6\n",
    "\n",
    "X = np.empty(n)\n",
    "\n",
    "for i in range(n):\n",
    "    X[i] = 0.1 / 2 ** i\n",
    "    \n",
    "Y = np.empty(n)\n",
    "    \n",
    "for num in range(len(X)):    \n",
    "    # Gravidade\n",
    "    g = 9.8\n",
    "\n",
    "    # Tempo inicial e final\n",
    "    ti = 0\n",
    "    tf = 3\n",
    "\n",
    "    # Velocidade inicial\n",
    "    v0 = 0\n",
    "    y0 = 0\n",
    "\n",
    "    # Aceleração\n",
    "    a = -g\n",
    "\n",
    "    # dt incremento do tempo e n numero de intervalos\n",
    "    dt = X[num]\n",
    "    n = int((tf - ti) / dt)\n",
    "\n",
    "    # Vetor tempo (n+1 para garantir que nao falta o ultimo dado (Ex: t[10]))\n",
    "    t = np.linspace(ti, tf, n + 1)\n",
    "\n",
    "    # Vetor velocidade (empty e não zeros para não alterar \n",
    "    # muito o resultado se faltar analisar um dado)\n",
    "    v = np.empty(n + 1)\n",
    "    y = np.empty(n + 1)\n",
    "\n",
    "    # Introduzir v0 no vetor velocidade\n",
    "    v[0] = v0\n",
    "    y[0] = y0\n",
    "\n",
    "    # Preencher o vetor v\n",
    "    for i in range(n):\n",
    "        # v0 aqui é a velocidade inicial desde o ultimo ponto\n",
    "        #   v    =  v0  + a * t\n",
    "        v[i + 1] = v[i] + a * dt\n",
    "        y[i + 1] = y[i] + v[i] * dt\n",
    "        \n",
    "    # Encontrar um ponto pretendido no vetor v\n",
    "    # Tempo pretendido\n",
    "    tp = 2\n",
    "    # Se t[i] estiver entre o tempo pretendido - incremento\n",
    "    #                       e tempo pretendido + incremento\n",
    "    for i in range(n + 1):\n",
    "        if ( t[i] > (tp - dt) and (tp + dt) > t[i] ):\n",
    "            Y[num] = abs(xCalc - y[i])\n",
    "            break\n",
    "\n",
    "    \n",
    "    \n",
    "# Plot\n",
    "plt.plot(X, Y, label=\"Desvio\",  linestyle='-', linewidth=3, color=\"blue\", markersize=12)\n",
    "plt.ylabel(\"desvio\")\n",
    "plt.xlabel(\"dt\")\n",
    "plt.legend()         # Legenda só aparece com isto\n",
    "plt.grid()"
   ]
  }
 ],
 "metadata": {
  "interpreter": {
   "hash": "e7370f93d1d0cde622a1f8e1c04877d8463912d04d973331ad4851f04de6915a"
  },
  "kernelspec": {
   "display_name": "Python 3.10.2 64-bit",
   "language": "python",
   "name": "python3"
  },
  "language_info": {
   "codemirror_mode": {
    "name": "ipython",
    "version": 3
   },
   "file_extension": ".py",
   "mimetype": "text/x-python",
   "name": "python",
   "nbconvert_exporter": "python",
   "pygments_lexer": "ipython3",
   "version": "3.10.2"
  },
  "orig_nbformat": 4
 },
 "nbformat": 4,
 "nbformat_minor": 2
}
