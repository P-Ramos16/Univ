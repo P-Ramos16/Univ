{
 "cells": [
  {
   "cell_type": "code",
   "execution_count": 1,
   "metadata": {},
   "outputs": [
    {
     "data": {
      "image/png": "[encoded data removed]",
      "text/plain": [
       "<Figure size 432x288 with 1 Axes>"
      ]
     },
     "metadata": {
      "needs_background": "light"
     },
     "output_type": "display_data"
    },
    {
     "name": "stdout",
     "output_type": "stream",
     "text": [
      "\n",
      "| ordenada na origem  |\n",
      "     Z(0) > 0.09440313925626946\n",
      "     X(0) > -0.04825455\n",
      "(calculada na alinea .b)\n",
      "\n",
      " O declive e a ordenada na \n",
      "origem são muito próximos \n",
      "dos calculados na alinea .b\n"
     ]
    }
   ],
   "source": [
    "import numpy as np\n",
    "import matplotlib.pyplot as plt\n",
    "\n",
    "\n",
    "\n",
    "# Variáveis práticas\n",
    "\n",
    "X = np.array([0.00, 0.735, 1.363, 1.739, 2.805, 3.814, 4.458, 4.955, 5.666, 6.329])\n",
    "\n",
    "L = np.array([0, 1, 2, 3, 4, 5, 6, 7, 8, 9])\n",
    "\n",
    "\n",
    "# plot\n",
    "Z = np.poly1d(np.polyfit(X, L, 1))\n",
    "\n",
    "plt.xlabel(\"X (min)\")\n",
    "plt.ylabel(\"L (km)\")\n",
    "\n",
    " # modelo das variáveis práticas\n",
    "plt.plot(X, L, linestyle='-.', linewidth=2.0, color=\"blue\", marker='+', markersize=12, markerfacecolor='blue')\n",
    "\n",
    " # modelo das variáveis práticas modificadas\n",
    "plt.plot(X, Z(X), linestyle='-', linewidth=2.0, color=\"red\", marker='', markersize=12, markerfacecolor='red')\n",
    "\n",
    "plt.show()\n",
    "\n",
    "\n",
    "\n",
    "# Calculo do valor de Z quando L = 0.0 cm\n",
    "print(\"\")\n",
    "print(\"| ordenada na origem  |\")\n",
    "print(\"     Z(0) >\", Z(0))\n",
    "\n",
    "\n",
    "print(\"     X(0) > -0.04825455\")\n",
    "print(\"(calculada na alinea .b)\")\n",
    "print(\"\")\n",
    "print(\" O declive e a ordenada na \\norigem são muito próximos \\ndos calculados na alinea .b\")\n",
    "\n"
   ]
  }
 ],
 "metadata": {
  "interpreter": {
   "hash": "e7370f93d1d0cde622a1f8e1c04877d8463912d04d973331ad4851f04de6915a"
  },
  "kernelspec": {
   "display_name": "Python 3.10.1 64-bit",
   "language": "python",
   "name": "python3"
  },
  "language_info": {
   "codemirror_mode": {
    "name": "ipython",
    "version": 3
   },
   "file_extension": ".py",
   "mimetype": "text/x-python",
   "name": "python",
   "nbconvert_exporter": "python",
   "pygments_lexer": "ipython3",
   "version": "3.10.1"
  },
  "orig_nbformat": 4
 },
 "nbformat": 4,
 "nbformat_minor": 2
}
