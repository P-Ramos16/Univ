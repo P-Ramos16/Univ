{
 "cells": [
  {
   "cell_type": "code",
   "execution_count": 6,
   "metadata": {},
   "outputs": [
    {
     "name": "stdout",
     "output_type": "stream",
     "text": [
      "|     somatórios     |\n",
      "    xySum > 11.694334000000001\n",
      "     xSum > 3.09\n",
      "     ySum > 30.652\n",
      "    x2Sum > 1.1801000000000001\n",
      "    y2Sum > 115.89680356000002\n",
      "\n",
      "|  m, Δm, b, Δb, r²  |\n",
      "        m > 9.86668738\n",
      "        b > 0.0163936\n",
      "       r² > 0.99954566\n",
      "       Δm > 0.07437304\n",
      "       Δb > 0.02554906\n"
     ]
    },
    {
     "data": {
      "image/png": "[encoded data removed]",
      "text/plain": [
       "<Figure size 432x288 with 1 Axes>"
      ]
     },
     "metadata": {
      "needs_background": "light"
     },
     "output_type": "display_data"
    }
   ],
   "source": [
    "\n",
    "import numpy as np\n",
    "import matplotlib.pyplot as plt\n",
    "\n",
    "\n",
    "# Variáveis práticas\n",
    "\n",
    "\n",
    "X = np.array([0.11, 0.15, 0.16, 0.20, 0.25, 0.32, 0.40, 0.45, 0.50, 0.55])\n",
    "\n",
    "Y = np.array([1.05, 1.21, 1.26, 1.40, 1.60, 1.78, 2.00, 2.11, 2.22, 2.33])\n",
    "\n",
    "X = X\n",
    "Y = Y ** 2\n",
    "\n",
    "# plot\n",
    "\n",
    "plt.xlabel(\"X (kg)\")\n",
    "plt.ylabel(\"Y (s)\")\n",
    "\n",
    " # modelo das variáveis práticas\n",
    "plt.plot(X, Y, label=\"T Oscilação\", linestyle='-', linewidth=2.0, color=\"blue\", marker='+', markersize=12, markerfacecolor='blue')\n",
    "\n",
    "\n",
    "plt.legend()         # Legenda só aparece com isto\n",
    "plt.grid()\n",
    "\n",
    "\n",
    "print(\"|     somatórios     |\")\n",
    "\n",
    "xySum = np.sum(X * Y)\n",
    "print(\"    xySum >\", xySum)\n",
    "\n",
    "xSum = np.sum(X)\n",
    "print(\"     xSum >\", xSum)\n",
    "\n",
    "ySum = np.sum(Y)\n",
    "print(\"     ySum >\", ySum)\n",
    "\n",
    "x2Sum = np.sum(X ** 2)\n",
    "print(\"    x2Sum >\", x2Sum)\n",
    "\n",
    "y2Sum = np.sum(Y ** 2)\n",
    "print(\"    y2Sum >\", y2Sum)\n",
    "\n",
    "\n",
    "\n",
    "# Calculo de m, mDelta, b, bDelta e r2 (ao quadrado)\n",
    "print(\"\")\n",
    "print(\"|  m, Δm, b, Δb, r²  |\")\n",
    "\n",
    "N = np.size(X)\n",
    "\n",
    "m = np.round(( N * xySum - (xSum * ySum) ) / ( N * x2Sum - (xSum ** 2) ), 8)\n",
    "print(\"        m >\", m)\n",
    "\n",
    "\n",
    "b = np.round( ( x2Sum * ySum - xSum * xySum ) / ( N * x2Sum - (xSum ** 2) ) , 8)\n",
    "print(\"        b >\", b)\n",
    "\n",
    "\n",
    "r2 = np.round( (N * xySum - xSum * ySum) ** 2 / ( ( N * x2Sum - xSum ** 2 ) * ( N * y2Sum - ySum ** 2 ) ), 8)\n",
    "print(\"       r² >\", r2)\n",
    "\n",
    "\n",
    "mDelta = np.round( abs(m) * np.sqrt(((1/r2) - 1 )/(N - 2)), 8)\n",
    "print(\"       Δm >\", mDelta)\n",
    "\n",
    "\n",
    "bDelta = np.round( mDelta * np.sqrt(x2Sum/N), 8)\n",
    "print(\"       Δb >\", bDelta)\n",
    "\n"
   ]
  }
 ],
 "metadata": {
  "interpreter": {
   "hash": "e7370f93d1d0cde622a1f8e1c04877d8463912d04d973331ad4851f04de6915a"
  },
  "kernelspec": {
   "display_name": "Python 3.10.2 64-bit",
   "language": "python",
   "name": "python3"
  },
  "language_info": {
   "codemirror_mode": {
    "name": "ipython",
    "version": 3
   },
   "file_extension": ".py",
   "mimetype": "text/x-python",
   "name": "python",
   "nbconvert_exporter": "python",
   "pygments_lexer": "ipython3",
   "version": "3.10.2"
  },
  "orig_nbformat": 4
 },
 "nbformat": 4,
 "nbformat_minor": 2
}
