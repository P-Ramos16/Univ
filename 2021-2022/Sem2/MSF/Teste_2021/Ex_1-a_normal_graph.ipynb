{
 "cells": [
  {
   "cell_type": "code",
   "execution_count": 5,
   "metadata": {},
   "outputs": [
    {
     "name": "stdout",
     "output_type": "stream",
     "text": [
      "\n",
      "|  m, Δm, b, Δb, r²  |\n",
      "        m > 4.35060909\n",
      "        b > -7.14035\n",
      "       r² > 0.95215964\n",
      "       Δm > 0.3250657\n",
      "       Δb > 2.06231067\n"
     ]
    },
    {
     "data": {
      "image/png": "[encoded data removed]",
      "text/plain": [
       "<Figure size 432x288 with 1 Axes>"
      ]
     },
     "metadata": {
      "needs_background": "light"
     },
     "output_type": "display_data"
    }
   ],
   "source": [
    "import numpy as np\n",
    "import matplotlib.pyplot as plt\n",
    "\n",
    "\n",
    "# Variáveis práticas\n",
    "\n",
    "X = np.array([0.5, 1.5, 2.5, 3.5, 4.5, 5.5, 6.5, 7.5, 8.5, 9.5, 10.5])\n",
    "\n",
    "Y = np.array([0.121, 0.997, 2.55, 6.09, 9.31, 15.8, 17.1, 25.5, 26.5, 38.8, 41.9])\n",
    "\n",
    "xySum = np.sum(X * Y)\n",
    "\n",
    "xSum = np.sum(X)\n",
    "\n",
    "ySum = np.sum(Y)\n",
    "\n",
    "x2Sum = np.sum(X ** 2)\n",
    "\n",
    "y2Sum = np.sum(Y ** 2)\n",
    "\n",
    "\n",
    "\n",
    "# Calculo de m, mDelta, b, bDelta e r2 (ao quadrado)\n",
    "print(\"\")\n",
    "print(\"|  m, Δm, b, Δb, r²  |\")\n",
    "\n",
    "N = np.size(X)\n",
    "\n",
    "m = np.round(( N * xySum - (xSum * ySum) ) / ( N * x2Sum - (xSum ** 2) ), 8)\n",
    "print(\"        m >\", m)\n",
    "\n",
    "\n",
    "b = np.round( ( x2Sum * ySum - xSum * xySum ) / ( N * x2Sum - (xSum ** 2) ) , 8)\n",
    "print(\"        b >\", b)\n",
    "\n",
    "\n",
    "r2 = np.round( (N * xySum - xSum * ySum) ** 2 / ( ( N * x2Sum - xSum ** 2 ) * ( N * y2Sum - ySum ** 2 ) ), 8)\n",
    "print(\"       r² >\", r2)\n",
    "\n",
    "\n",
    "mDelta = np.round( abs(m) * np.sqrt(((1/r2) - 1 )/(N - 2)), 8)\n",
    "print(\"       Δm >\", mDelta)\n",
    "\n",
    "\n",
    "bDelta = np.round( mDelta * np.sqrt(x2Sum/N), 8)\n",
    "print(\"       Δb >\", bDelta)\n",
    "\n",
    "\n",
    "plt.xlabel(\"s (m)\")\n",
    "plt.ylabel(\"t (s)\")\n",
    "\n",
    " # modelo das variáveis práticas\n",
    "plt.plot(X, Y, label=\"Gráfico exprimental\", linestyle='-', linewidth=2.0, color=\"blue\", marker='+', markersize=12, markerfacecolor='blue')\n",
    "\n",
    "plt.plot(range(0, 12), range(0, 12)*m+b, label=\"Reta aproximada\", linestyle='-', linewidth=2.0, color=\"red\", marker='+', markersize=12, markerfacecolor='blue')\n",
    "\n",
    "plt.legend()         # Legenda só aparece com isto\n",
    "plt.grid()\n"
   ]
  }
 ],
 "metadata": {
  "interpreter": {
   "hash": "e7370f93d1d0cde622a1f8e1c04877d8463912d04d973331ad4851f04de6915a"
  },
  "kernelspec": {
   "display_name": "Python 3.10.1 64-bit",
   "language": "python",
   "name": "python3"
  },
  "language_info": {
   "codemirror_mode": {
    "name": "ipython",
    "version": 3
   },
   "file_extension": ".py",
   "mimetype": "text/x-python",
   "name": "python",
   "nbconvert_exporter": "python",
   "pygments_lexer": "ipython3",
   "version": "3.10.1"
  },
  "orig_nbformat": 4
 },
 "nbformat": 4,
 "nbformat_minor": 2
}
