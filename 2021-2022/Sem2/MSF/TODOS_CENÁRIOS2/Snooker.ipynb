{
 "cells": [
  {
   "cell_type": "code",
   "execution_count": 19,
   "metadata": {},
   "outputs": [
    {
     "name": "stdout",
     "output_type": "stream",
     "text": [
      "det >  |   vBola0 >      |    vBola1 >\n",
      "-1.0    0.573576436351046 0.8191520442889918\n",
      "\n",
      "x >\n",
      "[0.57357644 0.81915204]\n"
     ]
    }
   ],
   "source": [
    "import numpy as np\n",
    "import matplotlib.pyplot as plt\n",
    "\n",
    "# Angulos\n",
    "con = np.pi / 180\n",
    "\n",
    "phi = 35\n",
    "theta = 90 - phi\n",
    "\n",
    "phi = phi * con\n",
    "theta = theta * con\n",
    "\n",
    "det = (-np.cos(theta) * np.sin(phi)) - (np.sin(theta) * np.cos(phi))\n",
    "\n",
    "vBola0 = -np.sin(phi) / det\n",
    "vBola1 = -np.cos(phi) / det\n",
    "\n",
    "v2 = vBola0**2 + vBola1**2\n",
    "\n",
    "\n",
    "print(\"det >  |   vBola0 >      |    vBola1 >\")\n",
    "print(det, \"  \", vBola0, vBola1)\n",
    "print(\"\")\n",
    "\n",
    "a = np.array([[np.cos(theta), np.cos(phi)], [np.sin(theta), -np.sin(phi)]])\n",
    "b = np.array([1,0])\n",
    "x = np.linalg.solve(a, b)\n",
    "print(\"x >\")\n",
    "print(x)"
   ]
  }
 ],
 "metadata": {
  "interpreter": {
   "hash": "e7370f93d1d0cde622a1f8e1c04877d8463912d04d973331ad4851f04de6915a"
  },
  "kernelspec": {
   "display_name": "Python 3.10.4 64-bit",
   "language": "python",
   "name": "python3"
  },
  "language_info": {
   "codemirror_mode": {
    "name": "ipython",
    "version": 3
   },
   "file_extension": ".py",
   "mimetype": "text/x-python",
   "name": "python",
   "nbconvert_exporter": "python",
   "pygments_lexer": "ipython3",
   "version": "3.10.4"
  },
  "orig_nbformat": 4
 },
 "nbformat": 4,
 "nbformat_minor": 2
}
