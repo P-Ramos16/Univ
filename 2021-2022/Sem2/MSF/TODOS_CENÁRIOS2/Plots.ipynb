{
 "cells": [
  {
   "cell_type": "code",
   "execution_count": null,
   "metadata": {},
   "outputs": [],
   "source": [
    "\n",
    "# Plot\n",
    "plt.plot(t, xx * 0, linestyle='-', linewidth=2, color=\"black\")\n",
    "plt.plot(t, Ep, label=\"Ep\",  linestyle='-', linewidth=3, color=\"dodgerblue\")\n",
    "plt.plot(t, Em, label=\"Emec\",  linestyle='-', linewidth=3, color=\"mediumspringgreen\")\n",
    "plt.plot(t, xx, label=\"x\",  linestyle='-', linewidth=3, color=\"turquoise\")\n",
    "plt.xlabel(\"x (t)\")\n",
    "plt.ylabel(\"t (s)\")\n",
    "plt.legend()         # Legenda só aparece com isto\n",
    "plt.grid()\n"
   ]
  }
 ],
 "metadata": {
  "language_info": {
   "name": "python"
  },
  "orig_nbformat": 4
 },
 "nbformat": 4,
 "nbformat_minor": 2
}
