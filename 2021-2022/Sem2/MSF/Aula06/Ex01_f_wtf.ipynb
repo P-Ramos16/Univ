{
 "cells": [
  {
   "cell_type": "code",
   "execution_count": 22,
   "metadata": {},
   "outputs": [
    {
     "name": "stdout",
     "output_type": "stream",
     "text": [
      "Vy = 0:\n",
      "t >  |   vx(m/s) >      |    xx (m)>       |    xy (m)>\n",
      "0.488 23.388892107011767 12.333167910729786 1.1718980294792691\n",
      "\n",
      "Xy = 0:\n",
      "t >  |   vx(m/s) >      |    xx (m)>       |    xy (m)>\n",
      "0.978 20.416305971113356 23.033945726727207 0.000368901020502326\n",
      "\n"
     ]
    },
    {
     "data": {
      "image/png": "[encoded data removed]",
      "text/plain": [
       "<Figure size 432x288 with 1 Axes>"
      ]
     },
     "metadata": {
      "needs_background": "light"
     },
     "output_type": "display_data"
    }
   ],
   "source": [
    "\n",
    "import numpy as np\n",
    "import sympy as sym\n",
    "import matplotlib.pyplot as plt\n",
    "\n",
    "# Gravidade\n",
    "g = 9.8\n",
    "\n",
    "# Tempo inicial e final\n",
    "ti = 0\n",
    "tf = 1\n",
    "\n",
    "# Velocidade terminal (paraquedas fechado)\n",
    "vtx = 100 * 1000 / 3600\n",
    "vty = 100 * 1000 / 3600\n",
    "\n",
    "# Velocidade inicial\n",
    "v0 = 100 * 1000 / 3600\n",
    "alpha = 10\n",
    "\n",
    "xx0 = 0\n",
    "xy0 = 0\n",
    "vx0 = v0 * np.cos(np.deg2rad(alpha))\n",
    "vy0 = v0 * np.sin(np.deg2rad(alpha))\n",
    "\n",
    "\n",
    "# Aceleração\n",
    "Dx = g / (vtx * np.abs(vtx))\n",
    "Dy = g / (vty * np.abs(vty))\n",
    "\n",
    "\n",
    "# dt incremento do tempo e n numero de intervalos\n",
    "dt = 0.001\n",
    "n = int((tf - ti) / dt)\n",
    "\n",
    "# Vetor tempo (n+1 para garantir que nao falta o ultimo dado (Ex: t[10]))\n",
    "t = np.linspace(ti, tf, n + 1)\n",
    "\n",
    "# Vetor velocidade (empty e não zeros para não alterar \n",
    "# muito o resultado se faltar analisar um dado)\n",
    "xx = np.empty(n + 1)\n",
    "vx = np.empty(n + 1)\n",
    "ax = np.empty(n + 1)\n",
    "xy = np.empty(n + 1)\n",
    "vy = np.empty(n + 1)\n",
    "ay = np.empty(n + 1)\n",
    "\n",
    "# Introduzir v0 no vetor velocidade\n",
    "xx[0] = xx0\n",
    "vx[0] = vx0\n",
    "xy[0] = xy0\n",
    "vy[0] = vy0\n",
    "\n",
    "# Preencher o vetor v\n",
    "for i in range(n):\n",
    "    # v0 aqui é a velocidade inicial desde o ultimo ponto\n",
    "    #   v    =  v0  + a * t\n",
    "    ax[i] = - Dx * vx[i] * np.abs(vx[i])\n",
    "    xx[i + 1] = xx[i] + vx[i] * dt\n",
    "    vx[i + 1] = vx[i] + ax[i] * dt\n",
    "    \n",
    "    ay[i] = - Dy * vy[i] * np.abs(vy[i]) - g\n",
    "    xy[i + 1] = xy[i] + vy[i] * dt\n",
    "    vy[i + 1] = vy[i] + ay[i] * dt\n",
    "    \n",
    "    \n",
    "xanal = xx0 + vx0 * t\n",
    "yanal = xy0 + vy0 * t + 0.5 * -g * t ** 2\n",
    "\n",
    "\n",
    "# Encontrar os dados do paraquedista quando ele chega ao solo (x = 0)\n",
    "for i in range(n):\n",
    "    if (vy[i] > (0 - dt) and vy[i + 1] < (0 + dt)):\n",
    "        print(\"Vy = 0:\")\n",
    "        print(\"t >  |   vx(m/s) >      |    xx (m)>       |    xy (m)>\")\n",
    "        print(t[i + 1], vx[i + 1], xx[i + 1], xy[i + 1])\n",
    "        print(\"\")\n",
    "        break\n",
    "\n",
    "# Encontrar os dados do paraquedista quando ele chega ao solo (x = 0)\n",
    "for i in range(n):\n",
    "    if (xy[i] > (0 - dt) and xy[i + 1] < (0 + dt)):\n",
    "        print(\"Xy = 0:\")\n",
    "        print(\"t >  |   vx(m/s) >      |    xx (m)>       |    xy (m)>\")\n",
    "        print(t[i + 1], vx[i + 1], xx[i + 1], xy[i + 1])\n",
    "        print(\"\")\n",
    "        break\n",
    "\n",
    "    \n",
    "\n",
    "    \n",
    "# Plot\n",
    "plt.plot(xx, xy, label=\"Posição\",  linestyle='-', linewidth=3, color=\"blue\")\n",
    "plt.plot(xanal, yanal, label=\"Posição\",  linestyle='-', linewidth=3, color=\"orange\")\n",
    "plt.ylabel(\"y (m)\")\n",
    "plt.xlabel(\"x (x)\")\n",
    "plt.legend()         # Legenda só aparece com isto\n",
    "plt.grid()"
   ]
  }
 ],
 "metadata": {
  "interpreter": {
   "hash": "e7370f93d1d0cde622a1f8e1c04877d8463912d04d973331ad4851f04de6915a"
  },
  "kernelspec": {
   "display_name": "Python 3.10.1 64-bit",
   "language": "python",
   "name": "python3"
  },
  "language_info": {
   "codemirror_mode": {
    "name": "ipython",
    "version": 3
   },
   "file_extension": ".py",
   "mimetype": "text/x-python",
   "name": "python",
   "nbconvert_exporter": "python",
   "pygments_lexer": "ipython3",
   "version": "3.10.1"
  },
  "orig_nbformat": 4
 },
 "nbformat": 4,
 "nbformat_minor": 2
}
