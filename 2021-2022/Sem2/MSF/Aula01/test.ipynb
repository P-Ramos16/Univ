{
 "cells": [
  {
   "cell_type": "code",
   "execution_count": 29,
   "metadata": {},
   "outputs": [
    {
     "data": {
      "image/png": "[encoded data removed]",
      "text/plain": [
       "<Figure size 432x288 with 1 Axes>"
      ]
     },
     "metadata": {
      "needs_background": "light"
     },
     "output_type": "display_data"
    }
   ],
   "source": [
    "import numpy as np\n",
    "import matplotlib.pyplot as plt\n",
    "\n",
    "def calcRegLin(L, X):\n",
    "       # Calculo dos somatórios\n",
    "\n",
    "       xySum = np.sum(L * X)\n",
    "\n",
    "       xSum = np.sum(L)\n",
    "\n",
    "       ySum = np.sum(X)\n",
    "\n",
    "       x2Sum = np.sum(L ** 2)\n",
    "\n",
    "       y2Sum = np.sum(X ** 2)\n",
    "\n",
    "\n",
    "\n",
    "       # Calculo de m, mDelta, b, bDelta e r2 (ao quadrado)\n",
    "\n",
    "       N = np.size(L)\n",
    "\n",
    "       m = np.round(( N * xySum - (xSum * ySum) ) / ( N * x2Sum - (xSum ** 2) ), 8)\n",
    "\n",
    "       b = np.round( ( x2Sum * ySum - xSum * xySum ) / ( N * x2Sum - (xSum ** 2) ) , 8)\n",
    "\n",
    "       r2 = np.round( (N * xySum - xSum * ySum) ** 2 / ( ( N * x2Sum - xSum ** 2 ) * ( N * y2Sum - ySum ** 2 ) ), 8)\n",
    "\n",
    "       mDelta = np.round( abs(m) * np.sqrt(((1/r2) - 1 )/(N - 2)), 8)\n",
    "\n",
    "       bDelta = np.round( mDelta * np.sqrt(x2Sum/N), 8)\n",
    "       \n",
    "       return r2\n",
    "\n",
    "\n",
    "\n",
    "distance = [10, 20, 30, 40, 50, 60, 70, 80, 90, 100]\n",
    "\n",
    "time = [1.83, 2.87, 3.78, 4.65, 5.50, 6.32, 7.14, 7.96, 8.79, 9.69]\n",
    "\n",
    "\n",
    "# plot\n",
    "fig, ax = plt.subplots()\n",
    "\n",
    "ax.plot(time, distance, linestyle='-.', linewidth=2.0, color=\"springgreen\", marker='+', markersize=12, markerfacecolor='blue')\n",
    "\n",
    "ax.set(xlim=(0, 10), xticks=np.arange(1, 10, step=1),\n",
    "       ylim=(0, 110), yticks=np.arange(0, 120, step=10))\n",
    "\n",
    "plt.show()"
   ]
  }
 ],
 "metadata": {
  "interpreter": {
   "hash": "e7370f93d1d0cde622a1f8e1c04877d8463912d04d973331ad4851f04de6915a"
  },
  "kernelspec": {
   "display_name": "Python 3.10.1 64-bit",
   "language": "python",
   "name": "python3"
  },
  "language_info": {
   "codemirror_mode": {
    "name": "ipython",
    "version": 3
   },
   "file_extension": ".py",
   "mimetype": "text/x-python",
   "name": "python",
   "nbconvert_exporter": "python",
   "pygments_lexer": "ipython3",
   "version": "3.10.1"
  },
  "orig_nbformat": 4
 },
 "nbformat": 4,
 "nbformat_minor": 2
}
